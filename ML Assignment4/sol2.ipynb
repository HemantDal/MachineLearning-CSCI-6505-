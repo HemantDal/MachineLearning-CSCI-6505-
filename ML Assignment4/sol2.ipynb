{
 "cells": [
  {
   "cell_type": "markdown",
   "metadata": {},
   "source": [
    "# Question 2 "
   ]
  },
  {
   "cell_type": "markdown",
   "metadata": {},
   "source": [
    "This Assignment requires you to write a Python script file called \n",
    "sol2\n",
    ".py\n",
    "to \n",
    "calculate some inference of a simplified version of the Car repair example from the manuscript. Given is are \n",
    "the following probabilities\n",
    ": \n",
    "The marginal probability that the alternator is broken is 1/1000 and the marginal probability that the\n",
    "fan belt \n",
    "i\n",
    "s broken is 2\n",
    "/100. The probability that the battery is charging when either the alternator or the fan belt is \n",
    "broken is zero. However, even if both are working there is a 5/1000 probability that the battery is not \n",
    "charging. \n",
    "When the batter\n",
    "y\n",
    "is not charging\n",
    "th\n",
    "e\n",
    "n there is a 90% chance that the battery is flat, though even if \n",
    "the battery is charging th\n",
    "e\n",
    "n there is a 10% chance that the battery is flat. \n",
    "Finally, the car does not start if either \n",
    "the battery is flat, or there is no gas, or the starter is broken. H\n",
    "owever. Even if these three conditions don’t \n",
    "hold there is a 5% chance that the car \n",
    "won’t\n",
    "start. "
   ]
  },
  {
   "cell_type": "markdown",
   "metadata": {},
   "source": [
    "<b>2.1 Draw the causal model of this system</b>"
   ]
  },
  {
   "cell_type": "code",
   "execution_count": 6,
   "metadata": {
    "collapsed": false
   },
   "outputs": [],
   "source": [
    "from lea import Lea\n",
    "from lea import Pf\n",
    "\n",
    "alternatorBroken = Lea.boolProb(1,1000)\n",
    "fanBeltBroken = Lea.boolProb(2,100)\n",
    "\n",
    "batteryNotCharging = Lea.buildCPT(\n",
    "(~alternatorBroken & ~fanBeltBroken, Lea.boolProb(5,1000)),\n",
    "(alternatorBroken & ~fanBeltBroken, Lea.boolProb(1000,1000)),\n",
    "(~alternatorBroken & fanBeltBroken, Lea.boolProb(1000,1000)),    \n",
    "(alternatorBroken & fanBeltBroken, Lea.boolProb(1000,1000)))\n",
    "\n",
    "batteryFlat = Lea.buildCPT(\n",
    "(~batteryNotCharging, Lea.boolProb(1,10)),\n",
    "(batteryNotCharging, Lea.boolProb(9,10)))\n",
    "\n",
    "carWontStart = Lea.buildCPT(\n",
    "(~batteryFlat, Lea.boolProb(5,100)),\n",
    "(batteryFlat, Lea.boolProb(100,100)))"
   ]
  },
  {
   "cell_type": "markdown",
   "metadata": {},
   "source": [
    "<b>2.2 What is the probability that the alternator is broken given that the car won’t start?</b>"
   ]
  },
  {
   "cell_type": "code",
   "execution_count": 7,
   "metadata": {
    "collapsed": false
   },
   "outputs": [
    {
     "data": {
      "text/plain": [
       "0.005496004507962575"
      ]
     },
     "execution_count": 7,
     "metadata": {},
     "output_type": "execute_result"
    }
   ],
   "source": [
    "Pf((alternatorBroken).given(carWontStart))\n"
   ]
  },
  {
   "cell_type": "markdown",
   "metadata": {},
   "source": [
    "<b>2.3 What is the probability that the fan belt is broken given that the car won’t start?</b>"
   ]
  },
  {
   "cell_type": "code",
   "execution_count": 8,
   "metadata": {
    "collapsed": false
   },
   "outputs": [
    {
     "data": {
      "text/plain": [
       "0.1099200901592515"
      ]
     },
     "execution_count": 8,
     "metadata": {},
     "output_type": "execute_result"
    }
   ],
   "source": [
    "Pf((fanBeltBroken).given(carWontStart))"
   ]
  },
  {
   "cell_type": "markdown",
   "metadata": {},
   "source": [
    "<b>2.4 What is the probability that the fan belt is broken given that the car won’t start and the alternator is broken ?</b>"
   ]
  },
  {
   "cell_type": "code",
   "execution_count": 9,
   "metadata": {
    "collapsed": false
   },
   "outputs": [
    {
     "data": {
      "text/plain": [
       "0.02"
      ]
     },
     "execution_count": 9,
     "metadata": {},
     "output_type": "execute_result"
    }
   ],
   "source": [
    "Pf(fanBeltBroken.given(carWontStart & alternatorBroken))"
   ]
  },
  {
   "cell_type": "markdown",
   "metadata": {},
   "source": [
    "<b>2.5 What is the probability that the alternator and the fan belt is broken given that the car wo\n",
    "n’t start?</b>"
   ]
  },
  {
   "cell_type": "code",
   "execution_count": 10,
   "metadata": {
    "collapsed": false
   },
   "outputs": [
    {
     "data": {
      "text/plain": [
       "0.0001099200901592515"
      ]
     },
     "execution_count": 10,
     "metadata": {},
     "output_type": "execute_result"
    }
   ],
   "source": [
    "Pf((alternatorBroken & fanBeltBroken).given(carWontStart))"
   ]
  }
 ],
 "metadata": {
  "kernelspec": {
   "display_name": "Python 3",
   "language": "python",
   "name": "python3"
  },
  "language_info": {
   "codemirror_mode": {
    "name": "ipython",
    "version": 3
   },
   "file_extension": ".py",
   "mimetype": "text/x-python",
   "name": "python",
   "nbconvert_exporter": "python",
   "pygments_lexer": "ipython3",
   "version": "3.5.1"
  }
 },
 "nbformat": 4,
 "nbformat_minor": 2
}
