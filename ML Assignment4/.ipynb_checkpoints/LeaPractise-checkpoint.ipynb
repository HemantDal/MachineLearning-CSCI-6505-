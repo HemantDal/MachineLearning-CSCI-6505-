{
 "cells": [
  {
   "cell_type": "code",
   "execution_count": 2,
   "metadata": {
    "collapsed": true
   },
   "outputs": [],
   "source": [
    "from lea import *\n",
    "flip = Lea.fromVals('Head','Tail')"
   ]
  },
  {
   "cell_type": "code",
   "execution_count": 2,
   "metadata": {
    "collapsed": false
   },
   "outputs": [
    {
     "data": {
      "text/plain": [
       "Head : 1/2\n",
       "Tail : 1/2"
      ]
     },
     "execution_count": 2,
     "metadata": {},
     "output_type": "execute_result"
    }
   ],
   "source": [
    "flip"
   ]
  },
  {
   "cell_type": "code",
   "execution_count": 3,
   "metadata": {
    "collapsed": true
   },
   "outputs": [],
   "source": [
    "biasedFlip = Lea.fromVals('Head','Tail','Tail')"
   ]
  },
  {
   "cell_type": "code",
   "execution_count": 4,
   "metadata": {
    "collapsed": false
   },
   "outputs": [
    {
     "data": {
      "text/plain": [
       "Head : 1/3\n",
       "Tail : 2/3"
      ]
     },
     "execution_count": 4,
     "metadata": {},
     "output_type": "execute_result"
    }
   ],
   "source": [
    "biasedFlip"
   ]
  },
  {
   "cell_type": "code",
   "execution_count": 5,
   "metadata": {
    "collapsed": true
   },
   "outputs": [],
   "source": [
    "die = Lea.fromVals(1,2,3,4,5,6)"
   ]
  },
  {
   "cell_type": "code",
   "execution_count": 6,
   "metadata": {
    "collapsed": false
   },
   "outputs": [
    {
     "data": {
      "text/plain": [
       "1 : 1/6\n",
       "2 : 1/6\n",
       "3 : 1/6\n",
       "4 : 1/6\n",
       "5 : 1/6\n",
       "6 : 1/6"
      ]
     },
     "execution_count": 6,
     "metadata": {},
     "output_type": "execute_result"
    }
   ],
   "source": [
    "die"
   ]
  },
  {
   "cell_type": "code",
   "execution_count": 7,
   "metadata": {
    "collapsed": true
   },
   "outputs": [],
   "source": [
    "die = Lea.fromSeq(range(1,7))"
   ]
  },
  {
   "cell_type": "code",
   "execution_count": 8,
   "metadata": {
    "collapsed": false
   },
   "outputs": [
    {
     "data": {
      "text/plain": [
       "1 : 1/6\n",
       "2 : 1/6\n",
       "3 : 1/6\n",
       "4 : 1/6\n",
       "5 : 1/6\n",
       "6 : 1/6"
      ]
     },
     "execution_count": 8,
     "metadata": {},
     "output_type": "execute_result"
    }
   ],
   "source": [
    "die"
   ]
  },
  {
   "cell_type": "code",
   "execution_count": 9,
   "metadata": {
    "collapsed": true
   },
   "outputs": [],
   "source": [
    "myList = [1,2,3,4,5,6]\n",
    "die = Lea.fromSeq(myList)"
   ]
  },
  {
   "cell_type": "code",
   "execution_count": 11,
   "metadata": {
    "collapsed": false
   },
   "outputs": [
    {
     "data": {
      "text/plain": [
       "1 : 1/6\n",
       "2 : 1/6\n",
       "3 : 1/6\n",
       "4 : 1/6\n",
       "5 : 1/6\n",
       "6 : 1/6"
      ]
     },
     "execution_count": 11,
     "metadata": {},
     "output_type": "execute_result"
    }
   ],
   "source": [
    "die"
   ]
  },
  {
   "cell_type": "code",
   "execution_count": 12,
   "metadata": {
    "collapsed": true
   },
   "outputs": [],
   "source": [
    "myTuple = (1,2,3,4,5,6)\n",
    "die = Lea.fromSeq(myTuple)"
   ]
  },
  {
   "cell_type": "code",
   "execution_count": 13,
   "metadata": {
    "collapsed": false
   },
   "outputs": [
    {
     "data": {
      "text/plain": [
       "1 : 1/6\n",
       "2 : 1/6\n",
       "3 : 1/6\n",
       "4 : 1/6\n",
       "5 : 1/6\n",
       "6 : 1/6"
      ]
     },
     "execution_count": 13,
     "metadata": {},
     "output_type": "execute_result"
    }
   ],
   "source": [
    "die"
   ]
  },
  {
   "cell_type": "code",
   "execution_count": 14,
   "metadata": {
    "collapsed": true
   },
   "outputs": [],
   "source": [
    "die = Lea.fromSeq([v + 1 for v in range(6)])"
   ]
  },
  {
   "cell_type": "code",
   "execution_count": 15,
   "metadata": {
    "collapsed": false
   },
   "outputs": [
    {
     "data": {
      "text/plain": [
       "1 : 1/6\n",
       "2 : 1/6\n",
       "3 : 1/6\n",
       "4 : 1/6\n",
       "5 : 1/6\n",
       "6 : 1/6"
      ]
     },
     "execution_count": 15,
     "metadata": {},
     "output_type": "execute_result"
    }
   ],
   "source": [
    "die"
   ]
  },
  {
   "cell_type": "code",
   "execution_count": 16,
   "metadata": {
    "collapsed": true
   },
   "outputs": [],
   "source": [
    "die = Lea.fromSeq(v+1 for v in range(6))"
   ]
  },
  {
   "cell_type": "code",
   "execution_count": 17,
   "metadata": {
    "collapsed": false
   },
   "outputs": [
    {
     "data": {
      "text/plain": [
       "1 : 1/6\n",
       "2 : 1/6\n",
       "3 : 1/6\n",
       "4 : 1/6\n",
       "5 : 1/6\n",
       "6 : 1/6"
      ]
     },
     "execution_count": 17,
     "metadata": {},
     "output_type": "execute_result"
    }
   ],
   "source": [
    "die"
   ]
  },
  {
   "cell_type": "code",
   "execution_count": 19,
   "metadata": {
    "collapsed": true
   },
   "outputs": [],
   "source": [
    "die = Lea.fromSeq(6-v for v in range(6))"
   ]
  },
  {
   "cell_type": "code",
   "execution_count": 20,
   "metadata": {
    "collapsed": false
   },
   "outputs": [
    {
     "data": {
      "text/plain": [
       "1 : 1/6\n",
       "2 : 1/6\n",
       "3 : 1/6\n",
       "4 : 1/6\n",
       "5 : 1/6\n",
       "6 : 1/6"
      ]
     },
     "execution_count": 20,
     "metadata": {},
     "output_type": "execute_result"
    }
   ],
   "source": [
    "die"
   ]
  },
  {
   "cell_type": "code",
   "execution_count": 21,
   "metadata": {
    "collapsed": true
   },
   "outputs": [],
   "source": [
    "die = Lea.interval(1,6)"
   ]
  },
  {
   "cell_type": "code",
   "execution_count": 22,
   "metadata": {
    "collapsed": false
   },
   "outputs": [
    {
     "data": {
      "text/plain": [
       "1 : 1/6\n",
       "2 : 1/6\n",
       "3 : 1/6\n",
       "4 : 1/6\n",
       "5 : 1/6\n",
       "6 : 1/6"
      ]
     },
     "execution_count": 22,
     "metadata": {},
     "output_type": "execute_result"
    }
   ],
   "source": [
    "die"
   ]
  },
  {
   "cell_type": "code",
   "execution_count": 23,
   "metadata": {
    "collapsed": true
   },
   "outputs": [],
   "source": [
    "biasedFlip = Lea.fromValFreqs(('Head',1),('Tail',2))"
   ]
  },
  {
   "cell_type": "code",
   "execution_count": 24,
   "metadata": {
    "collapsed": false
   },
   "outputs": [
    {
     "data": {
      "text/plain": [
       "Head : 1/3\n",
       "Tail : 2/3"
      ]
     },
     "execution_count": 24,
     "metadata": {},
     "output_type": "execute_result"
    }
   ],
   "source": [
    "biasedFlip"
   ]
  },
  {
   "cell_type": "code",
   "execution_count": 26,
   "metadata": {
    "collapsed": false
   },
   "outputs": [
    {
     "data": {
      "text/plain": [
       "Head : 1/3\n",
       "Tail : 2/3"
      ]
     },
     "execution_count": 26,
     "metadata": {},
     "output_type": "execute_result"
    }
   ],
   "source": [
    "myPythonDict = {'Head': 1, 'Tail': 2}\n",
    "biasedFlip = Lea.fromValFreqsDict(myPythonDict)\n",
    "biasedFlip"
   ]
  },
  {
   "cell_type": "code",
   "execution_count": 27,
   "metadata": {
    "collapsed": false
   },
   "outputs": [
    {
     "data": {
      "text/plain": [
       "Head :  1/100\n",
       "Tail : 99/100"
      ]
     },
     "execution_count": 27,
     "metadata": {},
     "output_type": "execute_result"
    }
   ],
   "source": [
    "Lea.fromValFreqs(('Head',1),('Tail',99),('SHAZAM!',0))"
   ]
  },
  {
   "cell_type": "code",
   "execution_count": 28,
   "metadata": {
    "collapsed": true
   },
   "outputs": [],
   "source": [
    "rain = Lea.boolProb(27,100)"
   ]
  },
  {
   "cell_type": "code",
   "execution_count": 29,
   "metadata": {
    "collapsed": false
   },
   "outputs": [
    {
     "data": {
      "text/plain": [
       "False : 73/100\n",
       " True : 27/100"
      ]
     },
     "execution_count": 29,
     "metadata": {},
     "output_type": "execute_result"
    }
   ],
   "source": [
    "rain"
   ]
  },
  {
   "cell_type": "code",
   "execution_count": 30,
   "metadata": {
    "collapsed": true
   },
   "outputs": [],
   "source": [
    "brn = Lea.bernoulli(3,10)"
   ]
  },
  {
   "cell_type": "code",
   "execution_count": 31,
   "metadata": {
    "collapsed": false
   },
   "outputs": [
    {
     "data": {
      "text/plain": [
       "0 : 7/10\n",
       "1 : 3/10"
      ]
     },
     "execution_count": 31,
     "metadata": {},
     "output_type": "execute_result"
    }
   ],
   "source": [
    "brn"
   ]
  },
  {
   "cell_type": "code",
   "execution_count": 32,
   "metadata": {
    "collapsed": false
   },
   "outputs": [
    {
     "data": {
      "text/plain": [
       "0 : 117649/1000000\n",
       "1 : 302526/1000000\n",
       "2 : 324135/1000000\n",
       "3 : 185220/1000000\n",
       "4 :  59535/1000000\n",
       "5 :  10206/1000000\n",
       "6 :    729/1000000"
      ]
     },
     "execution_count": 32,
     "metadata": {},
     "output_type": "execute_result"
    }
   ],
   "source": [
    "Lea.binom(6,3,10)"
   ]
  },
  {
   "cell_type": "code",
   "execution_count": 33,
   "metadata": {
    "collapsed": false
   },
   "outputs": [
    {
     "data": {
      "text/plain": [
       " 0 :  6766764161830635520/50000000000000006339\n",
       " 1 : 13533528323661271040/50000000000000006339\n",
       " 2 : 13533528323661271040/50000000000000006339\n",
       " 3 :  9022352215774180352/50000000000000006339\n",
       " 4 :  4511176107887090176/50000000000000006339\n",
       " 5 :  1804470443154836224/50000000000000006339\n",
       " 6 :   601490147718278656/50000000000000006339\n",
       " 7 :   171854327919508192/50000000000000006339\n",
       " 8 :    42963581979877048/50000000000000006339\n",
       " 9 :     9547462662194900/50000000000000006339\n",
       "10 :     1909492532438980/50000000000000006339\n",
       "11 :      347180460443451/50000000000000006339\n",
       "12 :       57863410073908/50000000000000006339\n",
       "13 :        8902063088294/50000000000000006339\n",
       "14 :        1271723298328/50000000000000006339\n",
       "15 :         169563106444/50000000000000006339\n",
       "16 :          21195388305/50000000000000006339\n",
       "17 :           2493575095/50000000000000006339\n",
       "18 :            277063899/50000000000000006339\n",
       "19 :             29164621/50000000000000006339\n",
       "20 :              2916462/50000000000000006339\n",
       "21 :               277758/50000000000000006339\n",
       "22 :                25251/50000000000000006339\n",
       "23 :                 2196/50000000000000006339\n",
       "24 :                  183/50000000000000006339\n",
       "25 :                   15/50000000000000006339\n",
       "26 :                    1/50000000000000006339"
      ]
     },
     "execution_count": 33,
     "metadata": {},
     "output_type": "execute_result"
    }
   ],
   "source": [
    "Lea.poisson(2)"
   ]
  },
  {
   "cell_type": "code",
   "execution_count": 34,
   "metadata": {
    "collapsed": false
   },
   "outputs": [
    {
     "data": {
      "text/plain": [
       "Head : 1/3\n",
       "Tail : 2/3"
      ]
     },
     "execution_count": 34,
     "metadata": {},
     "output_type": "execute_result"
    }
   ],
   "source": [
    "biasedFlip"
   ]
  },
  {
   "cell_type": "code",
   "execution_count": 35,
   "metadata": {
    "collapsed": false
   },
   "outputs": [
    {
     "name": "stdout",
     "output_type": "stream",
     "text": [
      "Head : 0.333333\n",
      "Tail : 0.666667\n"
     ]
    }
   ],
   "source": [
    "print(biasedFlip.asFloat())"
   ]
  },
  {
   "cell_type": "code",
   "execution_count": 36,
   "metadata": {
    "collapsed": false
   },
   "outputs": [
    {
     "name": "stdout",
     "output_type": "stream",
     "text": [
      "Head :  33.3 %\n",
      "Tail :  66.7 %\n"
     ]
    }
   ],
   "source": [
    "print(biasedFlip.asPct())"
   ]
  },
  {
   "cell_type": "code",
   "execution_count": 3,
   "metadata": {
    "collapsed": false
   },
   "outputs": [],
   "source": [
    "burglary    = Lea.boolProb(1,1000)\n",
    "earthquake    = Lea.boolProb(2,1000)\n",
    "alarm = Lea.buildCPT(\n",
    "    (burglary & earthquake, Lea.boolProb(950,1000)),\n",
    "     ( ̃burglary & earthquake,Lea.boolProb(290,1000)))\n"
   ]
  },
  {
   "cell_type": "code",
   "execution_count": 6,
   "metadata": {
    "collapsed": false
   },
   "outputs": [],
   "source": []
  },
  {
   "cell_type": "code",
   "execution_count": 15,
   "metadata": {
    "collapsed": false
   },
   "outputs": [
    {
     "ename": "SyntaxError",
     "evalue": "invalid character in identifier (<ipython-input-15-9eee61c93c6e>, line 3)",
     "output_type": "error",
     "traceback": [
      "\u001b[1;36m  File \u001b[1;32m\"<ipython-input-15-9eee61c93c6e>\"\u001b[1;36m, line \u001b[1;32m3\u001b[0m\n\u001b[1;33m    ( ̃burglary & earthquake,Lea.boolProb(290,1000)))\u001b[0m\n\u001b[1;37m              ^\u001b[0m\n\u001b[1;31mSyntaxError\u001b[0m\u001b[1;31m:\u001b[0m invalid character in identifier\n"
     ]
    }
   ],
   "source": []
  },
  {
   "cell_type": "code",
   "execution_count": 18,
   "metadata": {
    "collapsed": false
   },
   "outputs": [
    {
     "name": "stdout",
     "output_type": "stream",
     "text": [
      "Coin Distribution\n",
      "H : 1/2\n",
      "T : 1/2\n"
     ]
    }
   ],
   "source": [
    "# define coin\n",
    "coin = Lea.fromValFreqs(('H', 1),\n",
    "                        ('T', 1))\n",
    "\n",
    "print('Coin Distribution', coin, sep='\\n')"
   ]
  },
  {
   "cell_type": "code",
   "execution_count": 19,
   "metadata": {
    "collapsed": false
   },
   "outputs": [
    {
     "name": "stdout",
     "output_type": "stream",
     "text": [
      "Six-sided Die Distribution\n",
      "1 : 1/6\n",
      "2 : 1/6\n",
      "3 : 1/6\n",
      "4 : 1/6\n",
      "5 : 1/6\n",
      "6 : 1/6\n"
     ]
    }
   ],
   "source": [
    "\n",
    "# define six-sided die\n",
    "die6 = Lea.fromValFreqs(('1', 1),\n",
    "                        ('2', 1),\n",
    "                        ('3', 1),\n",
    "                        ('4', 1),\n",
    "                        ('5', 1),\n",
    "                        ('6', 1))\n",
    "\n",
    "\n",
    "print('Six-sided Die Distribution',\n",
    "      die6,\n",
    "      sep='\\n')\n"
   ]
  },
  {
   "cell_type": "code",
   "execution_count": 20,
   "metadata": {
    "collapsed": false
   },
   "outputs": [
    {
     "name": "stdout",
     "output_type": "stream",
     "text": [
      "Four-sided Die Distribution\n",
      "1 : 1/4\n",
      "2 : 1/4\n",
      "3 : 1/4\n",
      "4 : 1/4\n"
     ]
    }
   ],
   "source": [
    "# define four-side die\n",
    "die4 = Lea.fromValFreqs(('1', 1),\n",
    "                        ('2', 1),\n",
    "                        ('3', 1),\n",
    "                        ('4', 1))\n",
    "\n",
    "print('Four-sided Die Distribution',\n",
    "      die4,\n",
    "      sep='\\n')"
   ]
  },
  {
   "cell_type": "code",
   "execution_count": 21,
   "metadata": {
    "collapsed": false
   },
   "outputs": [
    {
     "name": "stdout",
     "output_type": "stream",
     "text": [
      "Scenario 1\n",
      "1 : 1/6\n",
      "2 : 1/6\n",
      "3 : 1/6\n",
      "4 : 1/6\n",
      "5 : 1/6\n",
      "6 : 1/6\n"
     ]
    }
   ],
   "source": [
    "# construct Scenario 1\n",
    "scenario1 = Lea.buildCPT((coin == 'H', die6),\n",
    "                         (coin == 'T', die6))\n",
    "\n",
    "print('Scenario 1',\n",
    "      scenario1,\n",
    "      sep='\\n')"
   ]
  },
  {
   "cell_type": "code",
   "execution_count": 22,
   "metadata": {
    "collapsed": false
   },
   "outputs": [
    {
     "name": "stdout",
     "output_type": "stream",
     "text": [
      "Scenario 2\n",
      "1 : 5/24\n",
      "2 : 5/24\n",
      "3 : 5/24\n",
      "4 : 5/24\n",
      "5 : 2/24\n",
      "6 : 2/24\n"
     ]
    }
   ],
   "source": [
    "# construct Scenario 2\n",
    "scenario2 = Lea.buildCPT((coin == 'H', die6),\n",
    "                         (coin == 'T', die4))\n",
    "\n",
    "print('Scenario 2',\n",
    "      scenario2,\n",
    "      sep='\\n')"
   ]
  },
  {
   "cell_type": "code",
   "execution_count": 16,
   "metadata": {
    "collapsed": false
   },
   "outputs": [
    {
     "name": "stdout",
     "output_type": "stream",
     "text": [
      "Coin Distribution\n",
      "H : 1/2\n",
      "T : 1/2\n",
      "Six-sided Die Distribution\n",
      "1 : 1/6\n",
      "2 : 1/6\n",
      "3 : 1/6\n",
      "4 : 1/6\n",
      "5 : 1/6\n",
      "6 : 1/6\n",
      "Four-sided Die Distribution\n",
      "1 : 1/4\n",
      "2 : 1/4\n",
      "3 : 1/4\n",
      "4 : 1/4\n",
      "Scenario 1\n",
      "1 : 1/6\n",
      "2 : 1/6\n",
      "3 : 1/6\n",
      "4 : 1/6\n",
      "5 : 1/6\n",
      "6 : 1/6\n",
      "Scenario 2\n",
      "1 : 5/24\n",
      "2 : 5/24\n",
      "3 : 5/24\n",
      "4 : 5/24\n",
      "5 : 2/24\n",
      "6 : 2/24\n",
      "Scenario 1\n",
      "* Joint Probabilities\n",
      "('H', '1') : 1/12\n",
      "('H', '2') : 1/12\n",
      "('H', '3') : 1/12\n",
      "('H', '4') : 1/12\n",
      "('H', '5') : 1/12\n",
      "('H', '6') : 1/12\n",
      "('T', '1') : 1/12\n",
      "('T', '2') : 1/12\n",
      "('T', '3') : 1/12\n",
      "('T', '4') : 1/12\n",
      "('T', '5') : 1/12\n",
      "('T', '6') : 1/12\n",
      "Scenario 2\n",
      "* Joint Probabilities\n",
      "('H', '1') : 2/24\n",
      "('H', '2') : 2/24\n",
      "('H', '3') : 2/24\n",
      "('H', '4') : 2/24\n",
      "('H', '5') : 2/24\n",
      "('H', '6') : 2/24\n",
      "('T', '1') : 3/24\n",
      "('T', '2') : 3/24\n",
      "('T', '3') : 3/24\n",
      "('T', '4') : 3/24\n",
      "Scenario 1 -> P(C|D=6)\n",
      "H : 1/2\n",
      "T : 1/2\n",
      "Scenario 2 -> P(C|D=6)\n",
      "H : 1\n",
      "Scenario 1 -> P(C|D=4)\n",
      "H : 1/2\n",
      "T : 1/2\n",
      "Scenario 2 -> P(C|D=4)\n",
      "H : 2/5\n",
      "T : 3/5\n"
     ]
    }
   ],
   "source": [
    "# get joint probs for all events\n",
    "# -- scenario 1\n",
    "joint_prob1 = Lea.cprod(coin, scenario1)\n",
    "\n",
    "print('Scenario 1',\n",
    "      '* Joint Probabilities',\n",
    "      joint_prob1,\n",
    "      sep='\\n')\n",
    "\n",
    "# get joint probs for all events\n",
    "# -- scenario 2\n",
    "joint_prob2 = Lea.cprod(coin, scenario2)\n",
    "\n",
    "print('Scenario 2',\n",
    "      '* Joint Probabilities',\n",
    "      joint_prob2,\n",
    "      sep='\\n')\n",
    "\n",
    "# prob coin given D=6, scenario 1\n",
    "print(\"Scenario 1 -> P(C|D=6)\",\n",
    "      coin.given(scenario1 == '6'),\n",
    "      sep='\\n')\n",
    "\n",
    "# prob coin given D=6, scenario 2\n",
    "print(\"Scenario 2 -> P(C|D=6)\",\n",
    "      coin.given(scenario2 == '6'),\n",
    "      sep='\\n')\n",
    "\n",
    "# prob coin given D=4, scenario 1\n",
    "print(\"Scenario 1 -> P(C|D=4)\",\n",
    "      coin.given(scenario1 == '4'),\n",
    "      sep='\\n')\n",
    "\n",
    "# prob coin given D=4, scenario 2\n",
    "print(\"Scenario 2 -> P(C|D=4)\",\n",
    "      coin.given(scenario2 == '4'),\n",
    "      sep='\\n')\n"
   ]
  },
  {
   "cell_type": "code",
   "execution_count": null,
   "metadata": {
    "collapsed": true
   },
   "outputs": [],
   "source": []
  }
 ],
 "metadata": {
  "kernelspec": {
   "display_name": "Python 3",
   "language": "python",
   "name": "python3"
  },
  "language_info": {
   "codemirror_mode": {
    "name": "ipython",
    "version": 3
   },
   "file_extension": ".py",
   "mimetype": "text/x-python",
   "name": "python",
   "nbconvert_exporter": "python",
   "pygments_lexer": "ipython3",
   "version": "3.5.1"
  }
 },
 "nbformat": 4,
 "nbformat_minor": 2
}
