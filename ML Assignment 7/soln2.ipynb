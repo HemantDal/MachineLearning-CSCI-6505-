{
 "cells": [
  {
   "cell_type": "markdown",
   "metadata": {},
   "source": [
    "<b>Q2 Implement a neural network \n",
    "version of an RL to solve the \n",
    "linear maze example and \n",
    "submit your program as \n",
    "jupyt\n",
    "er\n",
    "notebook.</b>"
   ]
  },
  {
   "cell_type": "markdown",
   "metadata": {},
   "source": [
    "<b>Action Notations: </b>\n",
    "<br><b>-1 means to take left</b></br>\n",
    "<br><b>+1 means to take right</b></br>\n",
    "<br><b>0 means to stay</b></br>"
   ]
  },
  {
   "cell_type": "code",
   "execution_count": 3,
   "metadata": {
    "collapsed": true
   },
   "outputs": [],
   "source": [
    "import gym\n",
    "import numpy as np\n",
    "import random\n",
    "import tensorflow as tf\n",
    "import matplotlib.pyplot as plt\n",
    "from numpy import linalg as LA\n",
    "\n",
    "def tau(s,a):\n",
    "    if s==0 or s==4:  return(s)\n",
    "    else:      return(s+a)\n",
    "def rho(s,a):\n",
    "    return(s==1 and a==0)+2*(s==3 and a==1)\n",
    "def calc_policy(Q):\n",
    "    policy=np.zeros(5)\n",
    "    for s in range(0,5):\n",
    "        action_idx=np.argmax(Q[s,:])\n",
    "        policy[s]=2*action_idx-1\n",
    "        policy[0]=policy[4]=0\n",
    "    return policy.astype(int)\n",
    "def idx(a):\n",
    "    return(int((a+1)/2))"
   ]
  },
  {
   "cell_type": "markdown",
   "metadata": {},
   "source": [
    "<b>The Q-Network Approach</b>"
   ]
  },
  {
   "cell_type": "markdown",
   "metadata": {},
   "source": [
    "<b>Implementing the network</b>"
   ]
  },
  {
   "cell_type": "code",
   "execution_count": 4,
   "metadata": {
    "collapsed": false
   },
   "outputs": [],
   "source": [
    "#These lines establish the feed-forward part of the network used to choose actions\n",
    "# Here we initialize the variables for our neural network architecture\n",
    "Weights = tf.Variable(tf.random_uniform([5,2],0,0.01))\n",
    "inputData = tf.placeholder(shape=[1,5],dtype=tf.float32)\n",
    "Qoutput = tf.matmul(inputData,Weights)\n",
    "nextQ = tf.placeholder(shape=[1,2],dtype=tf.float32)\n",
    "predictedValues = tf.argmax(Qoutput,1)\n",
    "netLoss = tf.reduce_sum(tf.square(nextQ - Qoutput))\n",
    "trainingModel = tf.train.GradientDescentOptimizer(learning_rate=0.1)\n",
    "updatedModel = trainingModel.minimize(netLoss)\n",
    "arr = np.array( [[ 0.,   1.,   0.5,  0.5,  0. ], [ 0.,   0.5,  1.,   2.,   0. ]])"
   ]
  },
  {
   "cell_type": "markdown",
   "metadata": {},
   "source": [
    "<b>We first of all calculate the target labels using that we calculate next step on the bases of the initial step and action\n",
    ". We use Q- iteration here to claculate the next set of Q values. We do this iteration for a total of 675 episodes. We did the experminetation with 3 set of values of discount factor 0.05, 0.4 and 0.8. And found that the best convergence happens within less time for the least discount factor i.e 0.05.\n",
    "</b>"
   ]
  },
  {
   "cell_type": "code",
   "execution_count": 5,
   "metadata": {
    "collapsed": false
   },
   "outputs": [
    {
     "name": "stdout",
     "output_type": "stream",
     "text": [
      "Best Policy :- [ 0 -1  1  1  0]\n"
     ]
    }
   ],
   "source": [
    "init = tf.global_variables_initializer()\n",
    "\n",
    "# Set learning parameters\n",
    "discountFactor = .05\n",
    "e = 0.1\n",
    "num_episodes = 670\n",
    "loss = []\n",
    "with tf.Session() as sess:\n",
    "    sess.run(init)\n",
    "    for i in range(num_episodes):\n",
    "        # Randomly pickup a state\n",
    "        s = np.random.randint(0,5)\n",
    "        rAll = 0\n",
    "        j = 0\n",
    "        while j < 5:\n",
    "            j+=1\n",
    "            a,allQ = sess.run([predictedValues,Qoutput],feed_dict={inputData:np.identity(5)[s:s+1]})\n",
    "            sNew = tau(s,a[0])\n",
    "            Q1 = sess.run(Qoutput,feed_dict={inputData:np.identity(5)[sNew:sNew+1]})\n",
    "            maxQ1 = np.max(Q1)\n",
    "            targetQ = allQ \n",
    "            r = rho(s,a[0])\n",
    "            targetQ[0,a[0]] = r + discountFactor*maxQ1\n",
    "            # Training Phase\n",
    "            sess.run([updatedModel,Weights],feed_dict={inputData:np.identity(5)[s:s+1],nextQ:targetQ})\n",
    "            s = sNew\n",
    "        loss.append(LA.norm(tf.global_variables()[0].eval().T-arr))\n",
    "    policy = calc_policy(tf.global_variables()[0].eval())\n",
    "    print('Best Policy :- '+str(policy))"
   ]
  },
  {
   "cell_type": "markdown",
   "metadata": {
    "collapsed": true
   },
   "source": [
    "<b>Plotting the Loss Function</b>"
   ]
  },
  {
   "cell_type": "code",
   "execution_count": null,
   "metadata": {
    "collapsed": false
   },
   "outputs": [],
   "source": [
    "plt.suptitle('Deep Q Learning Cost Function')\n",
    "plt.xlabel('Episodes')\n",
    "plt.ylabel('Loss')\n",
    "plt.plot(loss)\n",
    "plt.show()"
   ]
  },
  {
   "cell_type": "code",
   "execution_count": null,
   "metadata": {
    "collapsed": true
   },
   "outputs": [],
   "source": []
  }
 ],
 "metadata": {
  "kernelspec": {
   "display_name": "Python 3",
   "language": "python",
   "name": "python3"
  },
  "language_info": {
   "codemirror_mode": {
    "name": "ipython",
    "version": 3
   },
   "file_extension": ".py",
   "mimetype": "text/x-python",
   "name": "python",
   "nbconvert_exporter": "python",
   "pygments_lexer": "ipython3",
   "version": "3.5.4"
  }
 },
 "nbformat": 4,
 "nbformat_minor": 2
}
