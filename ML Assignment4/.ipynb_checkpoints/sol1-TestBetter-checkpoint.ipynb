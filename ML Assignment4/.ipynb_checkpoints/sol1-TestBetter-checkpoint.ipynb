{
 "cells": [
  {
   "cell_type": "code",
   "execution_count": 1,
   "metadata": {
    "collapsed": true
   },
   "outputs": [],
   "source": [
    "import matplotlib.pyplot as plt\n",
    "import numpy as np\n",
    "from scipy import stats \n",
    "import seaborn as sns\n",
    "sns.set_style(\"white\")\n",
    "%matplotlib inline"
   ]
  },
  {
   "cell_type": "code",
   "execution_count": 2,
   "metadata": {
    "collapsed": false
   },
   "outputs": [
    {
     "data": {
      "text/plain": [
       "[<matplotlib.lines.Line2D at 0x7f2a19b825f8>]"
      ]
     },
     "execution_count": 2,
     "metadata": {},
     "output_type": "execute_result"
    },
    {
     "data": {
      "image/png": "[encoded data removed]",
      "text/plain": [
       "<matplotlib.figure.Figure at 0x7f2a19c170b8>"
      ]
     },
     "metadata": {},
     "output_type": "display_data"
    }
   ],
   "source": [
    "x = np.linspace(start = -10, stop = 10, num = 1000)\n",
    "y = stats.norm.pdf(x, loc = 0, scale = 1.5)\n",
    "plt.plot(x, y)"
   ]
  },
  {
   "cell_type": "code",
   "execution_count": 3,
   "metadata": {
    "collapsed": false
   },
   "outputs": [],
   "source": [
    "import pandas as pd"
   ]
  },
  {
   "cell_type": "code",
   "execution_count": 4,
   "metadata": {
    "collapsed": false
   },
   "outputs": [
    {
     "data": {
      "text/html": [
       "<div>\n",
       "<style>\n",
       "    .dataframe thead tr:only-child th {\n",
       "        text-align: right;\n",
       "    }\n",
       "\n",
       "    .dataframe thead th {\n",
       "        text-align: left;\n",
       "    }\n",
       "\n",
       "    .dataframe tbody tr th {\n",
       "        vertical-align: top;\n",
       "    }\n",
       "</style>\n",
       "<table border=\"1\" class=\"dataframe\">\n",
       "  <thead>\n",
       "    <tr style=\"text-align: right;\">\n",
       "      <th></th>\n",
       "      <th>x</th>\n",
       "    </tr>\n",
       "  </thead>\n",
       "  <tbody>\n",
       "    <tr>\n",
       "      <th>0</th>\n",
       "      <td>0.252851</td>\n",
       "    </tr>\n",
       "    <tr>\n",
       "      <th>1</th>\n",
       "      <td>-1.034562</td>\n",
       "    </tr>\n",
       "    <tr>\n",
       "      <th>2</th>\n",
       "      <td>3.319558</td>\n",
       "    </tr>\n",
       "    <tr>\n",
       "      <th>3</th>\n",
       "      <td>4.552363</td>\n",
       "    </tr>\n",
       "    <tr>\n",
       "      <th>4</th>\n",
       "      <td>-0.775995</td>\n",
       "    </tr>\n",
       "  </tbody>\n",
       "</table>\n",
       "</div>"
      ],
      "text/plain": [
       "          x\n",
       "0  0.252851\n",
       "1 -1.034562\n",
       "2  3.319558\n",
       "3  4.552363\n",
       "4 -0.775995"
      ]
     },
     "execution_count": 4,
     "metadata": {},
     "output_type": "execute_result"
    }
   ],
   "source": [
    "df = pd.read_csv(\"bimodal_example.csv\")\n",
    "df.head(n = 5)"
   ]
  },
  {
   "cell_type": "code",
   "execution_count": 5,
   "metadata": {
    "collapsed": true
   },
   "outputs": [],
   "source": [
    "data = df.x"
   ]
  },
  {
   "cell_type": "code",
   "execution_count": 6,
   "metadata": {
    "collapsed": false
   },
   "outputs": [
    {
     "data": {
      "text/plain": [
       "<matplotlib.axes._subplots.AxesSubplot at 0x7f2a19b32668>"
      ]
     },
     "execution_count": 6,
     "metadata": {},
     "output_type": "execute_result"
    },
    {
     "data": {
      "image/png": "[encoded data removed]",
      "text/plain": [
       "<matplotlib.figure.Figure at 0x7f2a4c35de48>"
      ]
     },
     "metadata": {},
     "output_type": "display_data"
    }
   ],
   "source": [
    "sns.distplot(data, bins =20, kde = False)"
   ]
  },
  {
   "cell_type": "code",
   "execution_count": 7,
   "metadata": {
    "collapsed": true
   },
   "outputs": [],
   "source": [
    "class Gaussian:\n",
    "    \"Model Univariate Gaussian\"\n",
    "    def __init__(self, mu, sigma):\n",
    "        # mean and standard deviation\n",
    "        self.mu = mu\n",
    "        self.sigma = sigma\n",
    "    # probability density function\n",
    "    def pdf(self, datum):\n",
    "        \"Probability of a data point given the parameters\"\n",
    "        u = (datum - self.mu) / abs(self.sigma)\n",
    "        y = (1/(sqrt(2*pi) * abs(self.sigma))) * exp(-u * u/2)\n",
    "        return y\n",
    "    # printing model values\n",
    "    def __repr__(self):\n",
    "        return 'Gaussian({0:4.6}, {1:4.6})'.format(self.mu, self.sigma)"
   ]
  },
  {
   "cell_type": "code",
   "execution_count": 8,
   "metadata": {
    "collapsed": false
   },
   "outputs": [
    {
     "name": "stdout",
     "output_type": "stream",
     "text": [
      "Best single Gaussian: u = 1.9, sigma = 1.8\n"
     ]
    }
   ],
   "source": [
    "# Gaussian of best fit \n",
    "best_single = Gaussian(np.mean(data), np.std(data))\n",
    "print('Best single Gaussian: u = {:0.2}, sigma = {:0.2}'.format(best_single.mu, best_single.sigma))"
   ]
  },
  {
   "cell_type": "code",
   "execution_count": 9,
   "metadata": {
    "collapsed": false
   },
   "outputs": [
    {
     "data": {
      "text/plain": [
       "<matplotlib.legend.Legend at 0x7f2a1620ae10>"
      ]
     },
     "execution_count": 9,
     "metadata": {},
     "output_type": "execute_result"
    },
    {
     "data": {
      "image/png": "[encoded data removed]",
      "text/plain": [
       "<matplotlib.figure.Figure at 0x7f2a16295d30>"
      ]
     },
     "metadata": {},
     "output_type": "display_data"
    }
   ],
   "source": [
    "# fit a single gausian curve to the data \n",
    "x = np.linspace(-6, 8, 200)\n",
    "g_single = stats.norm(best_single.mu, best_single.sigma).pdf(x)\n",
    "sns.distplot(data, bins = 20, kde = False, norm_hist = True)\n",
    "plt.plot(x, g_single, label = 'single gaussian')\n",
    "plt.legend()"
   ]
  },
  {
   "cell_type": "code",
   "execution_count": 10,
   "metadata": {
    "collapsed": true
   },
   "outputs": [],
   "source": [
    "from math import sqrt, log, exp, pi\n",
    "from random import uniform"
   ]
  },
  {
   "cell_type": "code",
   "execution_count": 13,
   "metadata": {
    "collapsed": false
   },
   "outputs": [],
   "source": [
    "class GaussianMixture:\n",
    "    \"Model mixture of two univariate Gaussians and their EM estimation\"\n",
    "    loglike = 0.\n",
    "    def __init__(self, data, mu_min = min(data), mu_max = max(data), sigma_min = 0.1, sigma_max = 1, mix = 0.5):\n",
    "        self.data = data\n",
    "        # init with multiple gaussians\n",
    "        self.one = Gaussian(uniform(mu_min, mu_max),\n",
    "                           uniform(sigma_min, sigma_max))\n",
    "        \n",
    "        self.two = Gaussian(uniform(mu_min, mu_max),\n",
    "                           uniform(sigma_min, sigma_max))\n",
    "        # as well as how much to mix\n",
    "        self.mix = mix\n",
    "      \n",
    "    def Estep(self):\n",
    "        \"Perform an Estimation step, freshening up self.loglike in the process\"\n",
    "        # Compute the weights\n",
    "        self.loglike = 0.\n",
    "        for datum in self.data:\n",
    "            # Unnormalized weights\n",
    "            wp1 = self.one.pdf(datum) * self.mix\n",
    "            wp2 = self.one.pdf(datum) * (1. - self.mix)\n",
    "            # Compute denominator \n",
    "            den = wp1 + wp2\n",
    "            # normalize\n",
    "            wp1 /= den\n",
    "            wp2 /= den\n",
    "            # add into loglike\n",
    "            self.loglike  += log(wp1 + wp2)\n",
    "            # yield weight tuple\n",
    "            yield (wp1, wp2)\n",
    "            \n",
    "    def Mstep(self, weights):\n",
    "        \"Perform a maximization step\"\n",
    "        # Compute denominators\n",
    "        (left, right) = zip(*weights)\n",
    "        one_den = sum(left)\n",
    "        two_den = sum(right)\n",
    "        # Compute new means \n",
    "        self.one.mu =  sum(w * d / one_den for (w,d) in zip(left, data))\n",
    "        self.two.mu =  sum(w * d / two_den for (w,d) in zip(right, data))\n",
    "        # Compute new sigmas\n",
    "        self.one.sigma = sqrt(sum(w*((d- self.one.mu) ** 2)\n",
    "                                  for (w,d) in zip(left,data))/one_den)\n",
    "        self.two.sigma = sqrt(sum(w*((d- self.two.mu) ** 2)\n",
    "                                  for (w,d) in zip(right,data))/two_den)\n",
    "        \n",
    "        # Compute new mix \n",
    "        self.mix = one_den / len(data)\n",
    "        \n",
    "    def iterate(self, N=1, verbose = False):\n",
    "        \"Perform N iterations then find log likelihood function\"\n",
    "        \n",
    "    def pdf(self, x):\n",
    "        return  (self.mix)*self.one.pdf(x) + (1-self.mix)*self.two.pdf(x)\n",
    "    \n",
    "    def __repr__(self):\n",
    "        return  'GaussianMixture({0}, {1}, mix = {2.03})'.format(self.one,\n",
    "                                                                self.two,\n",
    "                                                                self.mix)\n",
    "    \n",
    "    def __str__(self):\n",
    "        return  'Mixture({0}, {1}, mix = {2.03})'.format(self.one,\n",
    "                                                                self.two,\n",
    "                                                                self.mix)"
   ]
  },
  {
   "cell_type": "code",
   "execution_count": 14,
   "metadata": {
    "collapsed": false
   },
   "outputs": [],
   "source": [
    "# Check out the fitting process\n",
    "n_iterations = 5\n",
    "best_mix = None\n",
    "best_loglike = float('-inf')\n",
    "mix = GaussianMixture(data)\n",
    "for _ in range(n_iterations):\n",
    "    try:\n",
    "        mix.iterate(verbose = True)\n",
    "        if mix.loglike > best_loglike:\n",
    "            best_loglike = mix.loglike\n",
    "            best_mix = mix\n",
    "    except(ZeroDivisionError, ValueError, RuntimeWarning):\n",
    "        pass   "
   ]
  },
  {
   "cell_type": "code",
   "execution_count": 15,
   "metadata": {
    "collapsed": false
   },
   "outputs": [
    {
     "data": {
      "text/plain": [
       "<matplotlib.legend.Legend at 0x7f2a1619ccc0>"
      ]
     },
     "execution_count": 15,
     "metadata": {},
     "output_type": "execute_result"
    },
    {
     "data": {
      "image/png": "[encoded data removed]",
      "text/plain": [
       "<matplotlib.figure.Figure at 0x7f2a1619cba8>"
      ]
     },
     "metadata": {},
     "output_type": "display_data"
    }
   ],
   "source": [
    "sns.distplot(data, bins=20, kde = False, norm_hist = True)\n",
    "g_both = [best_mix.pdf(e) for e in x]\n",
    "plt.plot(x, g_both, label = 'gaussian mixture')\n",
    "plt.legend()"
   ]
  },
  {
   "cell_type": "code",
   "execution_count": null,
   "metadata": {
    "collapsed": true
   },
   "outputs": [],
   "source": []
  }
 ],
 "metadata": {
  "kernelspec": {
   "display_name": "Python 3",
   "language": "python",
   "name": "python3"
  },
  "language_info": {
   "codemirror_mode": {
    "name": "ipython",
    "version": 3
   },
   "file_extension": ".py",
   "mimetype": "text/x-python",
   "name": "python",
   "nbconvert_exporter": "python",
   "pygments_lexer": "ipython3",
   "version": "3.5.1"
  }
 },
 "nbformat": 4,
 "nbformat_minor": 2
}
