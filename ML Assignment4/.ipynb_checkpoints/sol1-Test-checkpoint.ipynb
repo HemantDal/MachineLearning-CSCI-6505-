{
 "cells": [
  {
   "cell_type": "markdown",
   "metadata": {},
   "source": [
    "# Question 1"
   ]
  },
  {
   "cell_type": "markdown",
   "metadata": {},
   "source": [
    "This Assignment requires you to write a Python script file called sol1.py to load the iris dataset from the first assignment and apply EM with a Gaussian mixture model on IRIS data. You are not allowed to use any Python public libraries like sklearn and scipy. You might compare the results of your program with sklearn models, but the whole exercise is to write the algorithm yourself. "
   ]
  },
  {
   "cell_type": "markdown",
   "metadata": {},
   "source": [
    "### Section 1.1"
   ]
  },
  {
   "cell_type": "markdown",
   "metadata": {},
   "source": [
    "Write a program to implement EM with a Gaussian mixture model on the iris dataset and plot the Sepal data points based on the obtained \n",
    "clusters. Try different number of classes (k=2,3,4). Hint: use numpy.linalg.pinv and also use numpy.copy to temporary save a \n",
    "vector. You might plot the points using the obtained RGB colour values ( i.e. if you have three clusters, there are three \n",
    "probability estimates of a data point belonging to each class)."
   ]
  },
  {
   "cell_type": "code",
   "execution_count": null,
   "metadata": {
    "collapsed": false
   },
   "outputs": [],
   "source": [
    "loadData = np.genfromtxt('fisheriris.data', delimiter = ',')"
   ]
  },
  {
   "cell_type": "markdown",
   "metadata": {},
   "source": [
    "Evaluate the prediction quality with \n",
    "different number\n",
    "of assumed \n",
    "classes (k=2,3,4). Explain briefly your evaluation method (maximum half a page)\n",
    "."
   ]
  },
  {
   "cell_type": "code",
   "execution_count": 1,
   "metadata": {
    "collapsed": false
   },
   "outputs": [],
   "source": [
    "import numpy as np\n",
    "import pandas as pd\n",
    "import matplotlib.pyplot as plt\n",
    "from scipy.stats import norm\n",
    "import random as rand\n",
    "from sys import maxsize\n",
    "from sklearn import datasets "
   ]
  },
  {
   "cell_type": "code",
   "execution_count": 2,
   "metadata": {
    "collapsed": false
   },
   "outputs": [],
   "source": [
    "iris = datasets.load_iris()\n",
    "X = iris.data[:,:2]\n",
    "Y = iris.target\n",
    "Y[:] = Y+1; "
   ]
  },
  {
   "cell_type": "code",
   "execution_count": 3,
   "metadata": {
    "collapsed": false
   },
   "outputs": [],
   "source": [
    "data = {'x':X[:,0],'y':X[:,1], 'label':Y}\n",
    "df = pd.DataFrame(data=data)"
   ]
  },
  {
   "cell_type": "code",
   "execution_count": null,
   "metadata": {
    "collapsed": false
   },
   "outputs": [],
   "source": [
    "fig = plt.figure()\n",
    "plt.scatter(data['x'],data['y'],34,c=Y)\n",
    "plt.show()"
   ]
  },
  {
   "cell_type": "code",
   "execution_count": 5,
   "metadata": {
    "collapsed": true
   },
   "outputs": [],
   "source": [
    "k1 = rand.randrange(len(X)) \n",
    "k2 = rand.randrange(len(X))\n",
    "k3 = rand.randrange(len(X)) "
   ]
  },
  {
   "cell_type": "code",
   "execution_count": 24,
   "metadata": {
    "collapsed": true
   },
   "outputs": [],
   "source": [
    "guess = { 'mu1':[X[k1,0],X[k1,1]],\n",
    "          'sig1':[[1, 0],[0, 1]],\n",
    "          'mu2':[X[k2,0],X[k2,1]],\n",
    "          'sig2':[[2, 0],[0, 1]],\n",
    "          'mu3':[X[k3,0],X[k3,1]],\n",
    "          'sig3':[[0.5, 0],[0, 1]],\n",
    "          'lambda':[0.3,0.3,0.4]\n",
    "        }"
   ]
  },
  {
   "cell_type": "code",
   "execution_count": 30,
   "metadata": {
    "collapsed": false
   },
   "outputs": [
    {
     "data": {
      "text/plain": [
       "150"
      ]
     },
     "execution_count": 30,
     "metadata": {},
     "output_type": "execute_result"
    }
   ],
   "source": [
    "len(df)"
   ]
  },
  {
   "cell_type": "code",
   "execution_count": 25,
   "metadata": {
    "collapsed": false
   },
   "outputs": [],
   "source": [
    "shift = maxsize\n",
    "epsilon = 0.01\n",
    "iters = 0\n",
    "df_copy = df.copy()"
   ]
  },
  {
   "cell_type": "code",
   "execution_count": 29,
   "metadata": {
    "collapsed": false
   },
   "outputs": [
    {
     "data": {
      "text/plain": [
       "array([0, 2, 0, 2, 0, 2, 2, 1, 0, 0, 2, 2, 0, 1, 2, 1, 0, 2, 0, 2, 1, 0, 0,\n",
       "       2, 1, 0, 0, 2, 0, 1, 0, 0, 0, 1, 0, 1, 0, 2, 2, 0, 1, 0, 2, 1, 0, 1,\n",
       "       2, 0, 0, 1, 1, 1, 0, 0, 2, 0, 1, 1, 0, 2, 2, 0, 1, 0, 0, 0, 2, 0, 2,\n",
       "       0, 1, 0, 1, 1, 2, 0, 1, 2, 2, 2, 0, 1, 1, 2, 0, 1, 1, 0, 1, 1, 0, 1,\n",
       "       2, 2, 0, 0, 0, 0, 2, 1, 0, 2, 2, 0, 0, 1, 1, 2, 1, 2, 1, 2, 1, 1, 1,\n",
       "       2, 0, 2, 2, 1, 2, 2, 1, 0, 0, 0, 2, 0, 0, 1, 0, 0, 2, 1, 0, 2, 1, 2,\n",
       "       1, 1, 2, 2, 0, 0, 2, 2, 0, 2, 1, 1])"
      ]
     },
     "execution_count": 29,
     "metadata": {},
     "output_type": "execute_result"
    }
   ],
   "source": [
    "np.random.choice(3,len(df))"
   ]
  },
  {
   "cell_type": "code",
   "execution_count": 8,
   "metadata": {
    "collapsed": true
   },
   "outputs": [],
   "source": [
    "df_copy['label']=map(lambda x:x+1, np.random.choice (3,len(df))) "
   ]
  },
  {
   "cell_type": "code",
   "execution_count": 31,
   "metadata": {
    "collapsed": false
   },
   "outputs": [
    {
     "data": {
      "text/html": [
       "<div>\n",
       "<style>\n",
       "    .dataframe thead tr:only-child th {\n",
       "        text-align: right;\n",
       "    }\n",
       "\n",
       "    .dataframe thead th {\n",
       "        text-align: left;\n",
       "    }\n",
       "\n",
       "    .dataframe tbody tr th {\n",
       "        vertical-align: top;\n",
       "    }\n",
       "</style>\n",
       "<table border=\"1\" class=\"dataframe\">\n",
       "  <thead>\n",
       "    <tr style=\"text-align: right;\">\n",
       "      <th></th>\n",
       "      <th>mu2</th>\n",
       "      <th>lambda</th>\n",
       "      <th>mu3</th>\n",
       "      <th>sig3</th>\n",
       "      <th>sig1</th>\n",
       "      <th>mu1</th>\n",
       "      <th>sig2</th>\n",
       "    </tr>\n",
       "  </thead>\n",
       "  <tbody>\n",
       "    <tr>\n",
       "      <th>0</th>\n",
       "      <td>4.7</td>\n",
       "      <td>0.3</td>\n",
       "      <td>6.3</td>\n",
       "      <td>[0.5, 0]</td>\n",
       "      <td>[1, 0]</td>\n",
       "      <td>4.8</td>\n",
       "      <td>[2, 0]</td>\n",
       "    </tr>\n",
       "    <tr>\n",
       "      <th>1</th>\n",
       "      <td>3.2</td>\n",
       "      <td>0.3</td>\n",
       "      <td>3.4</td>\n",
       "      <td>[0, 1]</td>\n",
       "      <td>[0, 1]</td>\n",
       "      <td>3</td>\n",
       "      <td>[0, 1]</td>\n",
       "    </tr>\n",
       "    <tr>\n",
       "      <th>2</th>\n",
       "      <td>NaN</td>\n",
       "      <td>0.4</td>\n",
       "      <td>NaN</td>\n",
       "      <td>NaN</td>\n",
       "      <td>NaN</td>\n",
       "      <td>NaN</td>\n",
       "      <td>NaN</td>\n",
       "    </tr>\n",
       "  </tbody>\n",
       "</table>\n",
       "</div>"
      ],
      "text/plain": [
       "   mu2 lambda  mu3      sig3    sig1  mu1    sig2\n",
       "0  4.7    0.3  6.3  [0.5, 0]  [1, 0]  4.8  [2, 0]\n",
       "1  3.2    0.3  3.4    [0, 1]  [0, 1]    3  [0, 1]\n",
       "2  NaN    0.4  NaN       NaN     NaN  NaN     NaN"
      ]
     },
     "execution_count": 31,
     "metadata": {},
     "output_type": "execute_result"
    }
   ],
   "source": [
    "params = pd.DataFrame.from_dict(guess, orient = 'index')\n",
    "params = params.transpose()\n",
    "params"
   ]
  },
  {
   "cell_type": "code",
   "execution_count": 14,
   "metadata": {
    "collapsed": false
   },
   "outputs": [
    {
     "name": "stderr",
     "output_type": "stream",
     "text": [
      "/home/vishnu/anaconda3/lib/python3.5/site-packages/ipykernel/__main__.py:11: SettingWithCopyWarning: \n",
      "A value is trying to be set on a copy of a slice from a DataFrame\n",
      "\n",
      "See the caveats in the documentation: http://pandas.pydata.org/pandas-docs/stable/indexing.html#indexing-view-versus-copy\n",
      "/home/vishnu/anaconda3/lib/python3.5/site-packages/ipykernel/__main__.py:15: SettingWithCopyWarning: \n",
      "A value is trying to be set on a copy of a slice from a DataFrame\n",
      "\n",
      "See the caveats in the documentation: http://pandas.pydata.org/pandas-docs/stable/indexing.html#indexing-view-versus-copy\n",
      "/home/vishnu/anaconda3/lib/python3.5/site-packages/ipykernel/__main__.py:13: SettingWithCopyWarning: \n",
      "A value is trying to be set on a copy of a slice from a DataFrame\n",
      "\n",
      "See the caveats in the documentation: http://pandas.pydata.org/pandas-docs/stable/indexing.html#indexing-view-versus-copy\n"
     ]
    }
   ],
   "source": [
    "while shift > epsilon:\n",
    "    iters += 1\n",
    "    # Expectation-step\n",
    "    updated_labels = expectation(df_copy.copy(), params)\n",
    "    # Maximization-step\n",
    "    updated_parameters = maximization(updated_labels, params.copy())\n",
    "    # Updating the shift distance\n",
    "    shift = distance(params, updated_parameters)\n",
    "    # Finally, updating the new labels and parameters for the next iteration\n",
    "    df_copy = updated_labels\n",
    "    params = updated_parameters\n",
    "    \n",
    "    fig = plt.figure()\n",
    "    plt.scatter(df_copy['x'], df_copy['y'], 24, c=df_copy['label'])\n",
    "    fig.savefig(\"iteration_new{}.png\".format(iters))"
   ]
  },
  {
   "cell_type": "code",
   "execution_count": 10,
   "metadata": {
    "collapsed": true
   },
   "outputs": [],
   "source": [
    " def distance(old_params, new_params):\n",
    "    dist = 0\n",
    "    for param in ['mu1','mu2','mu3']:\n",
    "        for i in range(len(old_params)):\n",
    "            dist+=(old_params[param][i]-new_params[param][i])**2\n",
    "    return dist**0.5"
   ]
  },
  {
   "cell_type": "code",
   "execution_count": 11,
   "metadata": {
    "collapsed": false
   },
   "outputs": [],
   "source": [
    "def expectation(dataFrame, parameters):\n",
    "    for i in range(dataFrame.shape[0]):\n",
    "        x = dataFrame['x'][i]\n",
    "        y = dataFrame['y'][i]\n",
    "        #assigning the probablilities of each cluster\n",
    "        p_cluster1=prob([x,y],list(parameters['mu1']), list(parameters['sig1']),parameters['lambda'][0])\n",
    "        p_cluster2=prob([x, y],list(parameters['mu2']), list(parameters['sig2']), parameters['lambda'][1])\n",
    "        p_cluster3=prob([x, y],list(parameters['mu3']), list(parameters['sig3']),parameters['lambda'][2])\n",
    "        # Labelling each data according to the probabilities of cluster\n",
    "        if(p_cluster1>=p_cluster2)&(p_cluster1>= p_cluster3):\n",
    "            dataFrame['label'][i] =1\n",
    "        elif(p_cluster2>=p_cluster1)&(p_cluster2>= p_cluster3):\n",
    "            dataFrame['label'][i] = 2\n",
    "        elif(p_cluster3>=p_cluster1)&(p_cluster3>= p_cluster2):\n",
    "            dataFrame['label'][i]=3\n",
    "        else:dataFrame['label'][i]=np.random.choice(3, len(df))+1 \n",
    "    return dataFrame"
   ]
  },
  {
   "cell_type": "code",
   "execution_count": 12,
   "metadata": {
    "collapsed": true
   },
   "outputs": [],
   "source": [
    "def prob(val, mu, sig, lam):\n",
    "    p = lam\n",
    "    for i in range(len(val)):\n",
    "        p *= norm.pdf(val[i], mu[i], sig[i][i])\n",
    "    return p"
   ]
  },
  {
   "cell_type": "code",
   "execution_count": 13,
   "metadata": {
    "collapsed": false
   },
   "outputs": [],
   "source": [
    "# Here we change the parameters \n",
    "def maximization(dataFrame, parameters):\n",
    "    points_assigned_to_cluster1=dataFrame[dataFrame['label']==1]  \n",
    "    points_assigned_to_cluster2=dataFrame[dataFrame['label']==2]  \n",
    "    points_assigned_to_cluster3=dataFrame[dataFrame['label'] == 3]\n",
    "    percent_assigned_to_cluster1=len(points_assigned_to_cluster1)/float(len(dataFrame))\n",
    "    percent_assigned_to_cluster2=len(points_assigned_to_cluster2)/float(len(dataFrame))\n",
    "    percent_assigned_to_cluster3=1-percent_assigned_to_cluster1-percent_assigned_to_cluster2\n",
    "    parameters['lambda']=[percent_assigned_to_cluster1,percent_assigned_to_cluster2,percent_assigned_to_cluster3 ]\n",
    "    parameters['mu1']=[points_assigned_to_cluster1['x'].mean(),points_assigned_to_cluster1['y'].mean(),None]\n",
    "    parameters['mu2']=[points_assigned_to_cluster2['x'].mean(),points_assigned_to_cluster2['y'].mean(),None]\n",
    "    parameters['mu3']=[points_assigned_to_cluster3['x'].mean(),points_assigned_to_cluster3['y'].mean(),None]\n",
    "    parameters['sig1']= [[points_assigned_to_cluster1['x'].std(),0 ], [0,points_assigned_to_cluster1['y'].std()],None]\n",
    "    parameters['sig2']= [[points_assigned_to_cluster2['x'].std(),0], [0,points_assigned_to_cluster2['y'].std()],None]\n",
    "    parameters['sig3']= [[points_assigned_to_cluster3['x'].std(),0], [0,points_assigned_to_cluster3['y'].std()],None]\n",
    "    return parameters"
   ]
  },
  {
   "cell_type": "code",
   "execution_count": null,
   "metadata": {
    "collapsed": true
   },
   "outputs": [],
   "source": []
  }
 ],
 "metadata": {
  "kernelspec": {
   "display_name": "Python 3",
   "language": "python",
   "name": "python3"
  },
  "language_info": {
   "codemirror_mode": {
    "name": "ipython",
    "version": 3
   },
   "file_extension": ".py",
   "mimetype": "text/x-python",
   "name": "python",
   "nbconvert_exporter": "python",
   "pygments_lexer": "ipython3",
   "version": "3.5.1"
  }
 },
 "nbformat": 4,
 "nbformat_minor": 2
}
