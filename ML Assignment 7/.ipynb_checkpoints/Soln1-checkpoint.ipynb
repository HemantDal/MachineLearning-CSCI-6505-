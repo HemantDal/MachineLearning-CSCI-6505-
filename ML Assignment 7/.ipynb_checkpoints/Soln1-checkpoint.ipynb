{
 "cells": [
  {
   "cell_type": "code",
   "execution_count": 1,
   "metadata": {
    "collapsed": false
   },
   "outputs": [],
   "source": [
    "## Reinforcement learning in 1d maze\n",
    "import numpy as np\n",
    "import matplotlib.pyplot as plt\n",
    "\n",
    "def subs(x):\n",
    "    subs = 0\n",
    "    if(a == 1):\n",
    "        subs = 1\n",
    "    elif(a==2):\n",
    "        subs = -1\n",
    "    elif(a==3):\n",
    "        subs = -1\n",
    "    elif(a==4):\n",
    "        subs = 1\n",
    "    return(subs)\n",
    "def tau(s,a):\n",
    "    if s==0 or s==4 or  s==7:  \n",
    "        return(s)\n",
    "    elif(s==1 or s==3):\n",
    "        if(a==1 or a ==3):\n",
    "            return(s)\n",
    "        else:\n",
    "            return(s+subs(a))\n",
    "    elif(s==2):    \n",
    "        if(a == 3):\n",
    "            return(s)\n",
    "        elif(1):\n",
    "            return(5)\n",
    "        else:\n",
    "            return(s+subs(a))\n",
    "    else:\n",
    "        if(a == 3 or a == 1):\n",
    "            return(s+subs(a))\n",
    "        else:\n",
    "            return(s)\n",
    "def rho(s,a):\n",
    "    return -1*(s==1 and a==2) + (s==3 and a==4) + 2*(s==6 and a==1)\n",
    "    #return -1*(s==1 and a==2) + (s==3 and a==4) + 2*(s==7 and a==1)\n",
    "def calc_policy(Q):\n",
    "    policy=np.zeros(8)\n",
    "    for s in range(0,8):\n",
    "        action_idx=np.argmax(Q[s,:])\n",
    "        #policy[s]=2*action_idx-1\n",
    "        policy[s]=action_idx+1\n",
    "        policy[0]=policy[4]=policy[7]=0\n",
    "    return policy.astype(int)\n",
    "def idx(a):\n",
    "    return(int((a+1)/2))\n",
    "def mazeRestriction(s,a):\n",
    "    if ((s==1 and a==1) or (s==1 and a==3) or (s==2 and a==3) or \n",
    "        (s==3 and a==3) or (s==3 and a==1) or (s==5 and a==4) or\n",
    "        (s==5 and a==2) or (s==6 and a==4) or (s==6 and a==2)):  \n",
    "        return('0')\n",
    "    else :\n",
    "        return('No Blockage')\n",
    "gamma=0.5;"
   ]
  },
  {
   "cell_type": "code",
   "execution_count": null,
   "metadata": {
    "collapsed": false
   },
   "outputs": [],
   "source": [
    "rho(100,100)"
   ]
  },
  {
   "cell_type": "code",
   "execution_count": 3,
   "metadata": {
    "collapsed": false,
    "scrolled": true
   },
   "outputs": [
    {
     "name": "stdout",
     "output_type": "stream",
     "text": [
      "\n",
      "--> Q-iteration\n",
      "Q values: \n",
      " [[ 0.    0.    0.5   0.5   0.    1.    2.    0.  ]\n",
      " [ 0.   -1.    0.5   0.25  0.    0.5   1.    0.  ]\n",
      " [ 0.    0.    0.25  0.5   0.    0.    0.5   0.  ]\n",
      " [ 0.    0.25  0.5   1.    0.    0.5   1.    0.  ]]\n",
      "policy: \n",
      " [0 4 1 4 0 1 1 0]\n"
     ]
    }
   ],
   "source": [
    "print('\\n--> Q-iteration')\n",
    "\n",
    "Q_new=np.zeros([8,4])\n",
    "Q=np.zeros([8,4])\n",
    "policy = np.zeros(8)\n",
    "count=0\n",
    "for iter in range(4):\n",
    "    for s in range(0,8):\n",
    "        for a in range(1,5):\n",
    "            #print('s->'+str(s))\n",
    "            #print('a->'+str(a))\n",
    "            #print(rho(s,a))\n",
    "            maxValue = max(Q[tau(s,a),0], Q[tau(s,a),1], Q[tau(s,a),2], Q[tau(s,a),3])\n",
    "            #if(mazeRestriction(s,a) =='No Blockage'):\n",
    "            #    cum = gamma*maxValue\n",
    "            Q_new[s,a-1]=rho(s,a)+gamma*maxValue\n",
    "    #print(Q_new)        \n",
    "    Q = np.copy(Q_new)\n",
    "#print(Q)\n",
    "policy=calc_policy(Q)\n",
    "print('Q values: \\n',np.transpose(Q))\n",
    "print('policy: \\n',np.transpose(policy))"
   ]
  },
  {
   "cell_type": "code",
   "execution_count": null,
   "metadata": {
    "collapsed": true
   },
   "outputs": [],
   "source": [
    "    Q = np.copy"
   ]
  },
  {
   "cell_type": "code",
   "execution_count": null,
   "metadata": {
    "collapsed": true
   },
   "outputs": [],
   "source": [
    "    Q = np.copy"
   ]
  },
  {
   "cell_type": "code",
   "execution_count": null,
   "metadata": {
    "collapsed": true
   },
   "outputs": [],
   "source": []
  }
 ],
 "metadata": {
  "kernelspec": {
   "display_name": "Python 3",
   "language": "python",
   "name": "python3"
  },
  "language_info": {
   "codemirror_mode": {
    "name": "ipython",
    "version": 3
   },
   "file_extension": ".py",
   "mimetype": "text/x-python",
   "name": "python",
   "nbconvert_exporter": "python",
   "pygments_lexer": "ipython3",
   "version": "3.5.4"
  }
 },
 "nbformat": 4,
 "nbformat_minor": 2
}
