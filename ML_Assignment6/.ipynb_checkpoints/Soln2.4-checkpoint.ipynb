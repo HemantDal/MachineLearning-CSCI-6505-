{
 "cells": [
  {
   "cell_type": "markdown",
   "metadata": {},
   "source": [
    "<b>These below accuraccies we get from the previous con1, con2 and conv3 layer models which we use below for evaluating \n",
    "these models</b>"
   ]
  },
  {
   "cell_type": "code",
   "execution_count": 1,
   "metadata": {
    "collapsed": false
   },
   "outputs": [],
   "source": [
    "import numpy as np\n",
    "# Training Accuracies\n",
    "modelTrainLayer1 = np.array([[ 0.2       ], [ 0.94      ], [ 0.98000002], [ 0.98000002], [ 0.89999998], [ 0.94      ],\n",
    "                    [ 0.86000001], [ 0.88      ], [ 0.92000002], [ 0.94      ], [ 0.95999998], [ 0.94      ],\n",
    "                    [ 0.94      ], [ 0.92000002], [ 0.95999998], [ 0.95999998], [ 0.92000002], [ 1.        ],\n",
    "                    [ 0.92000002], [ 0.94      ], [ 0.94      ], [ 0.95999998]], dtype = float).T \n",
    "modelTrainLayer2 = np.array([[ 0.14      ], [ 0.80000001], [ 0.92000002], [ 0.89999998], [ 0.95999998], [ 0.94      ],\n",
    "                         [ 1.        ], [ 1.        ], [ 0.92000002], [ 0.94      ], [ 0.95999998], [ 0.92000002], [ 1.        ],\n",
    "                         [ 1.        ], [ 0.95999998], [ 0.95999998], [ 0.98000002], [ 0.94      ],[ 0.98000002],\n",
    "                         [ 0.95999998], [ 1.        ], [ 0.94      ]], dtype = float).T\n",
    "modelTrainLayer3 =np.array([[ 0.04      ], [ 0.81999999], [ 0.88      ], [ 0.88      ], [ 0.98000002], [ 0.95999998],\n",
    "                         [ 0.94      ], [ 0.94      ], [ 0.98000002], [ 0.94      ], [ 0.98000002], [ 0.94      ],\n",
    "                         [ 0.98000002], [ 0.95999998], [ 0.94      ], [ 1.        ], [ 0.95999998],\n",
    "                         [ 1.        ], [ 0.98000002], [ 0.95999998], [ 1.        ], [ 0.98000002]], dtype = float).T\n",
    "\n",
    "# Testing Accuracies\n",
    "modelTestLayer1 = np.array([[ 0.95999998], [ 1.        ], [ 0.95999998], [ 0.98000002], [ 0.95999998], [ 0.94      ],\n",
    "                           [ 0.95999998], [ 1.        ], [ 0.94      ], [ 0.95999998], [ 0.95999998], [ 0.98000002],\n",
    "                           [ 0.95999998], [ 0.89999998], [ 0.92000002], [ 1.        ], [ 1.        ],[ 0.95999998], \n",
    "                            [ 0.94      ],[ 0.94      ],[ 0.92000002], [ 0.95999998]], dtype = float).T\n",
    "modelTestLayer2 = np.array([[ 0.95999998], [ 0.98000002], [ 0.98000002], [ 0.94      ], [ 0.95999998], [ 1.        ],\n",
    "                         [ 1.        ], [ 0.98000002], [ 0.95999998], [ 0.94      ], [ 0.95999998], [ 1.        ],\n",
    "                         [ 0.98000002], [ 0.95999998], [ 0.98000002], [ 0.92000002], [ 0.98000002], [ 0.95999998],\n",
    "                         [ 0.98000002], [ 0.95999998], [ 0.98000002], [ 0.95999998]], dtype = float).T\n",
    "\n",
    "modelTestLayer3 = np.array([[ 0.98000002], [ 0.98000002],  [ 0.98000002], [ 0.98000002], [ 0.98000002],\n",
    "                      [ 1.        ], [ 0.94      ], [ 0.95999998], [ 0.98000002], [ 0.98000002],\n",
    "                      [ 0.95999998], [ 0.98000002], [ 0.98000002], [ 0.95999998], [ 1.        ],\n",
    "                      [ 0.98000002], [ 0.98000002], [ 0.95999998], [ 1.        ], [ 0.98000002],\n",
    "                      [ 0.98000002], [ 0.98000002]], dtype = float).T"
   ]
  },
  {
   "cell_type": "markdown",
   "metadata": {},
   "source": [
    "<b>From the below graphs we find that our accuracy for model with 3 concolutional layers is slightly better than the model \n",
    "with 2 or 1 convolutional layers</b>"
   ]
  },
  {
   "cell_type": "markdown",
   "metadata": {},
   "source": [
    "<b>Evaluating the model with 1 conv layer </b>"
   ]
  },
  {
   "cell_type": "code",
   "execution_count": 2,
   "metadata": {
    "collapsed": false
   },
   "outputs": [],
   "source": [
    "import matplotlib.pyplot as plt\n",
    "import numpy as np\n",
    "\n",
    "def plotter ( ax,dt,col , lb):\n",
    "    data = np.random.normal( size=(50, 2 ) )\n",
    "    x, y = [1,2,3], data[:, 1 ]\n",
    "    ax.plot( dt, color=col ,label=lb)\n",
    "    ax.set_yticks(np.arange(0.0, 1.15, 0.1))\n",
    "    #ax.title(['Training accuracy evaluation'])\n",
    "    ax.set_ylabel('Accuracy')\n",
    "    ax.set_xlabel('Iterations')\n",
    "    legend = ax.legend(loc='lower right', shadow=True)\n",
    "    frame = legend.get_frame()\n",
    "    frame.set_facecolor('0.90')\n",
    "\n",
    "    # Set the fontsize\n",
    "    for label in legend.get_texts():\n",
    "        label.set_fontsize('large')\n",
    "\n",
    "    for label in legend.get_lines():\n",
    "        label.set_linewidth(1.5)  # the legend line width\n",
    "  \n",
    "    \n",
    "fig = plt.figure()\n",
    "ax = fig.add_axes([0.1, 0.1, 0.7, 0.7])\n",
    "fig.suptitle('Evaluation of 1 Conv Layer Model', fontsize=20)\n",
    "\n",
    "plotter( ax,modelTrainLayer1[0], 'Blue', '1 Conv Layer Train' )\n",
    "plotter( ax,modelTestLayer1[0], 'Red' , '1 Conv Layer Test')\n",
    "fig.show( )"
   ]
  },
  {
   "cell_type": "markdown",
   "metadata": {},
   "source": [
    "<b>Evaluating the model with 2 Conv Layer </b>"
   ]
  },
  {
   "cell_type": "code",
   "execution_count": 8,
   "metadata": {
    "collapsed": false
   },
   "outputs": [],
   "source": [
    "import matplotlib.pyplot as plt\n",
    "import numpy as np\n",
    "\n",
    "def plotter ( ax,dt,col , lb):\n",
    "    data = np.random.normal( size=(50, 2 ) )\n",
    "    x, y = [1,2,3], data[:, 1 ]\n",
    "    ax.plot( dt, color=col ,label=lb)\n",
    "    ax.set_yticks(np.arange(0.0, 1.15, 0.1))\n",
    "    #ax.title(['Training accuracy evaluation'])\n",
    "    #ax.title = 'salil'\n",
    "    ax.set_ylabel('Accuracy')\n",
    "    ax.set_xlabel('Iterations')\n",
    "    legend = ax.legend(loc='lower right', shadow=True)\n",
    "    frame = legend.get_frame()\n",
    "    frame.set_facecolor('0.90')\n",
    "\n",
    "    # Set the fontsize\n",
    "    for label in legend.get_texts():\n",
    "        label.set_fontsize('large')\n",
    "\n",
    "    for label in legend.get_lines():\n",
    "        label.set_linewidth(1.5)  # the legend line width\n",
    "  \n",
    "    \n",
    "fig = plt.figure()\n",
    "ax = fig.add_axes([0.1, 0.1, 0.7, 0.7])\n",
    "fig.suptitle('Evaluation of 2 Conv Layer Model', fontsize=20)\n",
    "\n",
    "\n",
    "plotter( ax,modelTrainLayer2[0], 'Blue', '2 Conv Layer Train' )\n",
    "plotter( ax,modelTestLayer2[0], 'Red' , '2 Conv Layer Test')\n",
    "fig.show( )"
   ]
  },
  {
   "cell_type": "markdown",
   "metadata": {},
   "source": [
    "<b>Evaluating the model with 3 Conv Layer </b>"
   ]
  },
  {
   "cell_type": "code",
   "execution_count": null,
   "metadata": {
    "collapsed": true
   },
   "outputs": [],
   "source": [
    "import matplotlib.pyplot as plt\n",
    "import numpy as np\n",
    "\n",
    "def plotter ( ax,dt,col , lb):\n",
    "    data = np.random.normal( size=(50, 2 ) )\n",
    "    x, y = [1,2,3], data[:, 1 ]\n",
    "    ax.plot( dt, color=col ,label=lb)\n",
    "    ax.set_yticks(np.arange(0.0, 1.15, 0.1))\n",
    "    #ax.title(['Training accuracy evaluation'])\n",
    "    ax.set_ylabel('Accuracy')\n",
    "    ax.set_xlabel('Iterations')\n",
    "    legend = ax.legend(loc='lower right', shadow=True)\n",
    "    frame = legend.get_frame()\n",
    "    frame.set_facecolor('0.90')\n",
    "\n",
    "    # Set the fontsize\n",
    "    for label in legend.get_texts():\n",
    "        label.set_fontsize('large')\n",
    "\n",
    "    for label in legend.get_lines():\n",
    "        label.set_linewidth(1.5)  # the legend line width\n",
    "  \n",
    "    \n",
    "fig = plt.figure()\n",
    "ax = fig.add_axes([0.1, 0.1, 0.7, 0.7])\n",
    "fig.suptitle('Evaluation of 3 Conv Layer Model', fontsize=20)\n",
    "\n",
    "plotter( ax,modelTrainLayer3[0], 'Blue', '3 Conv Layer Train' )\n",
    "plotter( ax,modelTestLayer3[0], 'Red' , '3 Conv Layer Test')\n",
    "fig.show( )"
   ]
  },
  {
   "cell_type": "markdown",
   "metadata": {},
   "source": [
    "<b>Evaluating the 3 models on the bases of their training accuracy</b>"
   ]
  },
  {
   "cell_type": "code",
   "execution_count": 12,
   "metadata": {
    "collapsed": false
   },
   "outputs": [],
   "source": [
    "import matplotlib.pyplot as plt\n",
    "import numpy as np\n",
    "\n",
    "def plotter ( ax,dt,col , lb):\n",
    "    data = np.random.normal( size=(50, 2 ) )\n",
    "    x, y = [1,2,3], data[:, 1 ]\n",
    "    ax.plot( dt, color=col ,label=lb)\n",
    "    ax.set_yticks(np.arange(0.0, 1.15, 0.1))\n",
    "    ax.set_ylabel('Training Accuracy')\n",
    "    ax.set_xlabel('Convolution layers')\n",
    "    legend = ax.legend(loc='lower right', shadow=True)\n",
    "    frame = legend.get_frame()\n",
    "    frame.set_facecolor('0.90')\n",
    "\n",
    "    # Set the fontsize\n",
    "    for label in legend.get_texts():\n",
    "        label.set_fontsize('large')\n",
    "\n",
    "    for label in legend.get_lines():\n",
    "        label.set_linewidth(1.5)  # the legend line width\n",
    "  \n",
    "    \n",
    "fig = plt.figure()\n",
    "ax = fig.add_axes([0.1, 0.1, 0.7, 0.7])\n",
    "fig.suptitle('Evaluation of training Acc of 3 Models', fontsize=20)\n",
    "\n",
    "\n",
    "plotter( ax,modelTrainLayer1[0], 'Blue', '1 Conv Layer Model' )\n",
    "plotter( ax,modelTrainLayer2[0], 'Red' , '2 Conv Layer Model')\n",
    "plotter( ax,modelTrainLayer3[0], 'Green', '3 Conv Layer Model' )\n",
    "fig.show( )"
   ]
  },
  {
   "cell_type": "markdown",
   "metadata": {},
   "source": [
    "<b>Evaluating the 3 models on the bases of their testing accuracy</b>"
   ]
  },
  {
   "cell_type": "code",
   "execution_count": 13,
   "metadata": {
    "collapsed": false
   },
   "outputs": [],
   "source": [
    "import matplotlib.pyplot as plt\n",
    "import numpy as np\n",
    "\n",
    "def plotter ( ax,dt, col, lb ):\n",
    "    data = np.random.normal( size=(50, 2 ) )\n",
    "    x, y = [1,2,3], data[:, 1 ]\n",
    "    ax.plot( dt, color=col, label=lb )\n",
    "    ax.set_yticks(np.arange(0.0, 1.15, 0.1))\n",
    "    ax.set_ylabel('Training Accuracy')\n",
    "    ax.set_xlabel('Convolution layers')\n",
    "    legend = ax.legend(loc='lower right', shadow=True)\n",
    "    frame = legend.get_frame()\n",
    "    frame.set_facecolor('0.90')\n",
    "\n",
    "    # Set the fontsize\n",
    "    for label in legend.get_texts():\n",
    "        label.set_fontsize('large')\n",
    "\n",
    "    for label in legend.get_lines():\n",
    "        label.set_linewidth(1.5)  # the legend line width\n",
    "\n",
    "fig = plt.figure()\n",
    "ax = fig.add_axes([0.1, 0.1, 0.7, 0.7])\n",
    "fig.suptitle('Evaluation of testing Acc of 3 Models', fontsize=20)\n",
    "\n",
    "plotter( ax,modelTestLayer1[0], 'Blue', '1 Conv Layer Model' )\n",
    "plotter( ax,modelTestLayer2[0], 'Red' , '2 Conv Layer Model')\n",
    "plotter( ax,modelTestLayer3[0], 'Green' ,'3 Conv Layer Model' )\n",
    "#plotter( ax, 'Red' )\n",
    "fig.show( )"
   ]
  },
  {
   "cell_type": "code",
   "execution_count": null,
   "metadata": {
    "collapsed": true
   },
   "outputs": [],
   "source": []
  }
 ],
 "metadata": {
  "kernelspec": {
   "display_name": "Python 3",
   "language": "python",
   "name": "python3"
  },
  "language_info": {
   "codemirror_mode": {
    "name": "ipython",
    "version": 3
   },
   "file_extension": ".py",
   "mimetype": "text/x-python",
   "name": "python",
   "nbconvert_exporter": "python",
   "pygments_lexer": "ipython3",
   "version": "3.5.4"
  }
 },
 "nbformat": 4,
 "nbformat_minor": 2
}
