{
 "cells": [
  {
   "cell_type": "code",
   "execution_count": 1,
   "metadata": {
    "collapsed": false
   },
   "outputs": [],
   "source": [
    "from sklearn.datasets import fetch_20newsgroups\n",
    "from sklearn.feature_extraction.text import CountVectorizer\n",
    "import numpy as np\n",
    "import pandas as pd\n",
    "from scipy.sparse import csr_matrix\n",
    "from sklearn.metrics import confusion_matrix\n",
    "from sklearn.metrics import accuracy_score"
   ]
  },
  {
   "cell_type": "code",
   "execution_count": 2,
   "metadata": {
    "collapsed": false
   },
   "outputs": [],
   "source": [
    "train_20news = fetch_20newsgroups(subset='train', shuffle = True, random_state =21)\n",
    "test_20news = fetch_20newsgroups(subset='test', shuffle = True, random_state =21 )\n",
    "\n",
    "vectorizer = CountVectorizer()\n",
    "X_train = vectorizer.fit_transform(train_20news.data)\n",
    "X_test = vectorizer.transform(test_20news.data)\n",
    "\n",
    "#dataTrain = csr_matrix(1*(X_train>0))\n",
    "dataTrain = X_train.toarray()\n",
    "targetTrain = train_20news.target\n",
    "\n",
    "#dataTest = csr_matrix(1*(X_test>0))\n",
    "dataTest = X_test.toarray()\n",
    "targetTest = test_20news.target"
   ]
  },
  {
   "cell_type": "markdown",
   "metadata": {},
   "source": [
    "<b>For creating a groups of all class labels</b>"
   ]
  },
  {
   "cell_type": "code",
   "execution_count": 3,
   "metadata": {
    "collapsed": true
   },
   "outputs": [],
   "source": [
    "def step1A(x,y):\n",
    "    separated = {}\n",
    "    for i, j in zip(dataTrain, targetTrain):\n",
    "        if (j not in separated):\n",
    "            separated[j] = []\n",
    "        separated[j].append(i)\n",
    "    return separated"
   ]
  },
  {
   "cell_type": "markdown",
   "metadata": {},
   "source": [
    "<b>For calculating eq 7.13 and 7.14 as per laplace smoothing</b>"
   ]
  },
  {
   "cell_type": "code",
   "execution_count": 4,
   "metadata": {
    "collapsed": true
   },
   "outputs": [],
   "source": [
    "def step1B(dataset):\n",
    "    summaries = [((np.sum(attribute)+1.0)/(len(attribute)+2.0)) for attribute in zip(*dataset)]\n",
    "    return summaries"
   ]
  },
  {
   "cell_type": "code",
   "execution_count": 5,
   "metadata": {
    "collapsed": false
   },
   "outputs": [],
   "source": [
    "def step1(x,y):\n",
    "    separated = step1A(x,y)\n",
    "    summaries = {}\n",
    "    for classValue, instances in separated.items():\n",
    "        summaries[classValue] = step1B(instances)\n",
    "    return summaries"
   ]
  },
  {
   "cell_type": "markdown",
   "metadata": {},
   "source": [
    "<b>For finding weights for each class eq 7.11</b>"
   ]
  },
  {
   "cell_type": "code",
   "execution_count": 6,
   "metadata": {
    "collapsed": true
   },
   "outputs": [],
   "source": [
    "def step2(dictClasses, classSize, totalSize):\n",
    "    sizes = np.ndarray((classSize,1), dtype = float )\n",
    "    for i, v in dictClasses.items():\n",
    "        sizes[i] = len(v)/totalSize\n",
    "    return sizes"
   ]
  },
  {
   "cell_type": "markdown",
   "metadata": {},
   "source": [
    "<b>For claculating eq 7.12</b>"
   ]
  },
  {
   "cell_type": "code",
   "execution_count": 7,
   "metadata": {
    "collapsed": false
   },
   "outputs": [],
   "source": [
    "def step3(dictClasses, testData, testtarget, length, totalClasses):\n",
    "    arr = np.ndarray((len(testData),len(dictClasses.keys())) , dtype = float) \n",
    "    for i in range(length):\n",
    "        for j in range(totalClasses):\n",
    "            arr[i][j] = np.product(np.trim_zeros(np.asarray((dataDic[targetTest[j]])*sizes[targetTest[j]]) * testData[i]))\n",
    "    return arr"
   ]
  },
  {
   "cell_type": "code",
   "execution_count": 8,
   "metadata": {
    "collapsed": true
   },
   "outputs": [],
   "source": [
    "def step4(testOutputClasses, lengthTest):\n",
    "    arr = np.ndarray((lengthTest,1) , dtype = float) \n",
    "    for i,row in zip(range(lengthTest), testOutputClasses):\n",
    "        arr[i] = np.argmax(row)\n",
    "    return arr"
   ]
  },
  {
   "cell_type": "code",
   "execution_count": 9,
   "metadata": {
    "collapsed": false
   },
   "outputs": [],
   "source": [
    "dataDic = step1(dataTrain, targetTrain)\n",
    "lengthTrain = len(dataTrain)\n",
    "\n",
    "lengthClasses = len(dataDic.keys())\n",
    "sizes = step2(dataDic,lengthClasses ,lengthTrain)\n",
    "\n",
    "lengthTest = len(dataTest)\n",
    "\n",
    "arrFinal = step3(dataDic, dataTest, targetTest, lengthTest, lengthClasses)\n",
    "predictions = step4(arrFinal, lengthTest)"
   ]
  },
  {
   "cell_type": "code",
   "execution_count": 10,
   "metadata": {
    "collapsed": false
   },
   "outputs": [
    {
     "name": "stdout",
     "output_type": "stream",
     "text": [
      "0.08\n"
     ]
    }
   ],
   "source": [
    "print(accuracy_score(targetTest, predictions))"
   ]
  }
 ],
 "metadata": {
  "kernelspec": {
   "display_name": "Python 3",
   "language": "python",
   "name": "python3"
  },
  "language_info": {
   "codemirror_mode": {
    "name": "ipython",
    "version": 3
   },
   "file_extension": ".py",
   "mimetype": "text/x-python",
   "name": "python",
   "nbconvert_exporter": "python",
   "pygments_lexer": "ipython3",
   "version": "3.5.1"
  }
 },
 "nbformat": 4,
 "nbformat_minor": 2
}
