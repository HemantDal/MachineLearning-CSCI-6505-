{
 "cells": [
  {
   "cell_type": "code",
   "execution_count": 1,
   "metadata": {
    "collapsed": false
   },
   "outputs": [],
   "source": [
    "from skimage import color\n",
    "from skimage import io\n",
    "import scipy.misc as img\n",
    "import numpy as np\n",
    "from scipy import signal\n",
    "import numpy as np\n",
    "import tensorflow as tf\n",
    "import pylab as plt\n",
    "from scipy import signal\n",
    "\n",
    "def customEdgeFilter(flt, imgData):\n",
    "    arr_2 = color.rgb2gray(imgData)\n",
    "    ILeny = arr_2.shape[1]\n",
    "    FLeny = arr_1.shape[1]\n",
    "\n",
    "    ILenx = arr_2.shape[0]\n",
    "    FLenx = arr_1.shape[0]\n",
    "\n",
    "\n",
    "    stride = 1\n",
    "\n",
    "    itery = ILeny - FLeny + 1\n",
    "    iterx = ILenx - FLenx + 1\n",
    "    arr1 = np.ndarray((iterx,itery,3), dtype = float)\n",
    "\n",
    "\n",
    "    for itr in range(3):\n",
    "        arr_2 = img[:,:,itr]\n",
    "        if(ILeny>=FLeny):     \n",
    "            for i in range(itery):\n",
    "                arr_Part = arr_2[:, i:i + FLeny]\n",
    "                W = arr_1.shape[0] #Window size\n",
    "                idx = np.arange(arr_Part.shape[0]-W+1)[:,None] + np.arange(W)\n",
    "                out = arr_1*arr_Part[idx]\n",
    "                ll =  np.array([np.sum(arr) for arr in out], dtype = float).T\n",
    "                arr1[:,i,itr] = ll\n",
    "    return arr1\n",
    "    #plt.imshow(arr1[:,:,0])\n",
    "    #plt.show()"
   ]
  },
  {
   "cell_type": "code",
   "execution_count": 207,
   "metadata": {
    "collapsed": false
   },
   "outputs": [],
   "source": [
    "# This is using the custom edge filter written above\n",
    "img = io.imread('david-cameron.jpg')\n",
    "arr_1 = np.array([[-1.5,4, 0.1],[1,-2,1],[-1,-1,-1]], dtype = float)\n",
    "output = customEdgeFilter(arr_1, img)\n",
    "img1 = output[:,:,0] + output[:,:,1] + output[:,:,2] \n",
    "\n",
    "# Using an existing edge filter\n",
    "imgG = color.rgb2gray(img)\n",
    "arr_1 = np.array([[-1.5,4, 0.1],[1,-2,1],[-1,-1,-1]], dtype = float)   # 3 X 2\n",
    "img2 = signal.convolve2d(imgG,arr_1,'valid')\n",
    "\n",
    "\n",
    "# This is reading the image \n",
    "img3 = io.imread('david-cameron.jpg')\n",
    "\n",
    "data = (img1,img2, img3)"
   ]
  },
  {
   "cell_type": "code",
   "execution_count": null,
   "metadata": {
    "collapsed": false
   },
   "outputs": [],
   "source": [
    "import matplotlib.pyplot as plt\n",
    "import itertools\n",
    "\n",
    "count = 1\n",
    "features = [0, 1,2]\n",
    "titles = ['custom edge filter', 'scipy edge filter', 'original image']\n",
    "for subset in itertools.combinations(features, 2):\n",
    "        #arr = arr1[:,:,count-1] \n",
    "        plt.subplot(int(str(13) +''+ str(count)))\n",
    "        plt.title(titles[count-1])\n",
    "        plt.imshow(data[count-1])\n",
    "        plt.subplots_adjust( hspace= 0.5 )\n",
    "        count+=1\n",
    "plt.show()"
   ]
  },
  {
   "cell_type": "code",
   "execution_count": null,
   "metadata": {
    "collapsed": true
   },
   "outputs": [],
   "source": []
  }
 ],
 "metadata": {
  "kernelspec": {
   "display_name": "Python 3",
   "language": "python",
   "name": "python3"
  },
  "language_info": {
   "codemirror_mode": {
    "name": "ipython",
    "version": 3
   },
   "file_extension": ".py",
   "mimetype": "text/x-python",
   "name": "python",
   "nbconvert_exporter": "python",
   "pygments_lexer": "ipython3",
   "version": "3.5.4"
  }
 },
 "nbformat": 4,
 "nbformat_minor": 2
}
