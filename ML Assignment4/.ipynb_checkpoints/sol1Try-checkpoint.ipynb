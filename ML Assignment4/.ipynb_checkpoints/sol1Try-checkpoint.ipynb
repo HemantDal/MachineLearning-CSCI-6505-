{
 "cells": [
  {
   "cell_type": "code",
   "execution_count": 1,
   "metadata": {
    "collapsed": true
   },
   "outputs": [],
   "source": [
    "import matplotlib.pyplot as plt\n",
    "import pandas as pd\n",
    "import numpy as np\n",
    "from scipy import stats \n",
    "import seaborn as sns\n",
    "from math import sqrt, log, exp, pi\n",
    "sns.set_style(\"white\")\n",
    "%matplotlib inline"
   ]
  },
  {
   "cell_type": "code",
   "execution_count": 2,
   "metadata": {
    "collapsed": false
   },
   "outputs": [],
   "source": [
    "loadData = np.genfromtxt('fisheriris.data', delimiter = ',')\n",
    "X = pd.DataFrame(loadData[:, 0:2])\n",
    "#Xnor = pd.DataFrame([((X.iloc[:, i]-np.min(X.iloc[:, i]))/(np.max(X.iloc[:, i])-np.min(X.iloc[:, i]))) for i in range(len(X.columns))]).T"
   ]
  },
  {
   "cell_type": "code",
   "execution_count": 30,
   "metadata": {
    "collapsed": false
   },
   "outputs": [
    {
     "name": "stdout",
     "output_type": "stream",
     "text": [
      "-2\n"
     ]
    }
   ],
   "source": [
    "print(-X.shape[1]/2.)"
   ]
  },
  {
   "cell_type": "code",
   "execution_count": 35,
   "metadata": {
    "collapsed": false
   },
   "outputs": [],
   "source": [
    "def Gaussian(datum, mean, variance):\n",
    "    Ut = np.transpose(datum - mean) \n",
    "    U  = (datum - mean)\n",
    "    #y = (1/((sqrt(2*pi) * np.linalg.det(variance**2)**(1/2)))) * exp((-1/2)*(np.linalg.det(np.dot(Ut ,np.dot(U,(np.linalg.pinv(variance**2)))))))  \n",
    "    #print(np.dot(U,(np.linalg.pinv(variance**2))))\n",
    "    #print(np.dot(Ut ,np.dot(U,(np.linalg.pinv(variance**2)))))\n",
    "    print(type(np.exp(-.5 * np.einsum('ij, ij -> i', U, np.dot(np.linalg.pinv(variance) , (U).T).T ) )))\n",
    "    #print(np.linalg.det(variance) ** -.5 ** (2 * np.pi) ** (-X.shape[1]/2.))\n",
    "    #P = np.linalg.det(variance) ** -.5 ** (2 * np.pi) ** (-X.shape[1]/2.) * np.exp(-.5 * np.einsum('ij, ij -> i', U, np.dot(np.linalg.pinv(variance) , (U).T).T ) ) \n",
    "    return 1"
   ]
  },
  {
   "cell_type": "code",
   "execution_count": 36,
   "metadata": {
    "collapsed": false
   },
   "outputs": [],
   "source": [
    "def initialize(datum,case):\n",
    "    if case == 2:\n",
    "        mean = (np.array((datum.iloc[0,0],datum.iloc[0,1]), dtype = float) ,np.array((datum.iloc[2,0],datum.iloc[2,1]), dtype = float))\n",
    "        cov = (np.cov(np.transpose(datum)), np.cov(np.transpose(datum))+0.1)\n",
    "        phy = (0.5,0.5)\n",
    "    elif case == 3:\n",
    "        mean = (datum.iloc[0,0], datum.iloc[0,1], datum.iloc[0,2])\n",
    "        cov = (np.matrix('0.1 0.2; 0.3 0.2'), np.matrix('0.42 0.31; 0.15 0.25'), np.matrix('0.35 0.37; 0.22 0.27'))\n",
    "        phy = (0.3,0.3,0.4)\n",
    "    elif case == 4:\n",
    "        mean = (datum.iloc[0,0], datum.iloc[0,1], datum.iloc[0,2], datum.iloc[0,3])\n",
    "        cov = (np.matrix('0.1 0.2; 0.3 0.2'), np.matrix('0.42 0.31; 0.15 0.25'), np.matrix('0.35 0.37; 0.22 0.27'), np.matrix('0.31 0.38; 0.26 0.1'))\n",
    "        phy = (0.3,0.3,0.4)\n",
    "    return (mean, cov, phy)"
   ]
  },
  {
   "cell_type": "code",
   "execution_count": 26,
   "metadata": {
    "collapsed": false
   },
   "outputs": [],
   "source": [
    "mean, cov, phy = initialize(X, 2)"
   ]
  },
  {
   "cell_type": "code",
   "execution_count": 37,
   "metadata": {
    "collapsed": false
   },
   "outputs": [],
   "source": [
    "def EStep(case, datum, mean, cov, phy):\n",
    "    # Here we calculate the weights of our case scenerio \n",
    "    w = np.ndarray([1,case])\n",
    "    gValues = np.ndarray([1,case])\n",
    "    \n",
    "    for i in range(case):\n",
    "        gValues[0][i] = Gaussian(datum, mean[i], cov[i])\n",
    "        \n",
    "    # Calculating the summation value of all the weights and their respective gaussians\n",
    "    sumTotal = 0\n",
    "    for i in range(case):\n",
    "        sumTotal += phy[i]*gValues[0][i]\n",
    "        \n",
    "    # Calculating the Weights \n",
    "    for i in range(case):\n",
    "        w[0][i] = (phy[i]*gValues[0][i])/(sumTotal)\n",
    "        \n",
    "    return w    "
   ]
  },
  {
   "cell_type": "code",
   "execution_count": 33,
   "metadata": {
    "collapsed": false
   },
   "outputs": [
    {
     "name": "stdout",
     "output_type": "stream",
     "text": [
      "[ 1.          0.48033125  0.67211022  0.50822123  0.96926782  0.58620143\n",
      "  0.79705126  0.96330971  0.23220579  0.61578402  0.82482168  0.90249906\n",
      "  0.45584833  0.28123092  0.3190327   0.07335411  0.58620143  1.\n",
      "  0.56925076  0.78485654  0.91934882  0.89792513  0.82200703  0.89792513\n",
      "  0.90249906  0.49871333  0.96330971  0.992647    0.96926782  0.67211022\n",
      "  0.58620143  0.91934882  0.36976209  0.21798113  0.61578402  0.77191296\n",
      "  0.88862259  0.61578402  0.3190327   0.97344189  0.992647    0.0127308\n",
      "  0.51241246  0.992647    0.78485654  0.45584833  0.78485654  0.62312794\n",
      "  0.86112015  0.88584371  0.0651695   0.25429363  0.07428304  0.02136143\n",
      "  0.08515183  0.23336758  0.33406467  0.03493307  0.0951705   0.18169721\n",
      "  0.00222059  0.35989623  0.0083451   0.21826306  0.34609858  0.11970974\n",
      "  0.45824194  0.14783213  0.00673034  0.06573859  0.52697978  0.15863533\n",
      "  0.03389461  0.15863533  0.13865148  0.12218225  0.04573315  0.09870579\n",
      "  0.24651583  0.10233605  0.03918717  0.03918717  0.14783213  0.12263837\n",
      "  0.50002095  0.55048054  0.11970974  0.01116622  0.45824194  0.06812046\n",
      "  0.11220992  0.28456443  0.09558987  0.01983226  0.16798479  0.42907445\n",
      "  0.32506975  0.19041683  0.06776464  0.23336758  0.33406467  0.14783213\n",
      "  0.03627249  0.16368922  0.14902642  0.0074454   0.06185914  0.01601767\n",
      "  0.0167768   0.03521393  0.21028718  0.07069969  0.07857182  0.06251048\n",
      "  0.2166436   0.25429363  0.14902642  0.00420399  0.00158391  0.0083451\n",
      "  0.08484353  0.24769934  0.00319289  0.0829536   0.14981781  0.03678449\n",
      "  0.1388238   0.28456443  0.10170937  0.02721825  0.00885577  0.00185982\n",
      "  0.10170937  0.11970647  0.07130163  0.00518943  0.34900635  0.21923595\n",
      "  0.3223919   0.07428304  0.11970974  0.07428304  0.14783213  0.10883855\n",
      "  0.14981781  0.09870579  0.03389461  0.14902642  0.41229988  0.35989623]\n",
      "[  7.94847800e-01   8.98180235e-01   1.00000000e+00   9.78837696e-01\n",
      "   7.35018507e-01   3.50609458e-01   9.20792952e-01   8.93644441e-01\n",
      "   8.24890262e-01   9.52198049e-01   5.15450284e-01   9.30896960e-01\n",
      "   9.20792952e-01   8.58751783e-01   1.87835104e-01   5.72165552e-02\n",
      "   3.50609458e-01   7.94847800e-01   3.26746260e-01   5.09984560e-01\n",
      "   7.05117694e-01   6.12531834e-01   7.40996661e-01   8.95616336e-01\n",
      "   9.30896960e-01   8.64860139e-01   8.93644441e-01   7.56053723e-01\n",
      "   8.14613166e-01   1.00000000e+00   9.73511023e-01   7.05117694e-01\n",
      "   2.30273686e-01   1.40771474e-01   9.52198049e-01   9.43439294e-01\n",
      "   6.02065826e-01   9.52198049e-01   8.93644441e-01   8.58751783e-01\n",
      "   8.24890262e-01   2.45048810e-01   9.43439294e-01   8.24890262e-01\n",
      "   5.09984560e-01   9.20792952e-01   5.09984560e-01   9.93551630e-01\n",
      "   5.53078186e-01   9.34553180e-01   3.26394475e-02   1.54183245e-01\n",
      "   4.04054914e-02   1.30028162e-01   7.61648791e-02   3.54008090e-01\n",
      "   1.95905442e-01   3.01484510e-01   7.06687253e-02   5.11118777e-01\n",
      "   6.73513426e-02   3.43816706e-01   4.02420888e-02   2.14081058e-01\n",
      "   4.69300731e-01   6.99541107e-02   5.25337846e-01   2.53079455e-01\n",
      "   2.65244893e-02   2.09994631e-01   3.93933913e-01   1.82111315e-01\n",
      "   5.92208706e-02   1.82111315e-01   1.14452428e-01   8.12949898e-02\n",
      "   3.45793932e-02   6.28233558e-02   2.57034299e-01   2.35516779e-01\n",
      "   1.79397299e-01   1.79397299e-01   2.53079455e-01   1.80529820e-01\n",
      "   6.53257241e-01   3.35222606e-01   6.99541107e-02   3.08523788e-02\n",
      "   5.25337846e-01   2.38926903e-01   3.07174308e-01   2.42935081e-01\n",
      "   2.02260770e-01   2.09837938e-01   3.36890179e-01   4.62048152e-01\n",
      "   4.11637444e-01   1.76013624e-01   3.51804435e-01   3.54008090e-01\n",
      "   1.95905442e-01   2.53079455e-01   1.96860839e-02   1.42854922e-01\n",
      "   1.03845411e-01   3.44966472e-03   3.95006934e-01   8.69626660e-03\n",
      "   2.16132849e-02   1.73732522e-02   1.22942654e-01   7.86508878e-02\n",
      "   4.79246954e-02   1.82193218e-01   3.05684067e-01   1.54183245e-01\n",
      "   1.03845411e-01   2.56301681e-03   9.59809712e-04   4.02420888e-02\n",
      "   4.36689747e-02   4.04701162e-01   1.60906182e-03   9.87060195e-02\n",
      "   7.80206380e-02   1.75398165e-02   1.49320717e-01   2.42935081e-01\n",
      "   9.65670535e-02   1.42600511e-02   5.02604479e-03   1.18736680e-03\n",
      "   9.65670535e-02   1.20860416e-01   1.18540389e-01   2.34230280e-03\n",
      "   1.94093514e-01   1.44620251e-01   2.90882882e-01   4.04054914e-02\n",
      "   6.99541107e-02   4.04054914e-02   2.53079455e-01   5.76745310e-02\n",
      "   7.80206380e-02   6.28233558e-02   5.92208706e-02   1.03845411e-01\n",
      "   2.35905229e-01   3.43816706e-01]\n"
     ]
    },
    {
     "data": {
      "text/plain": [
       "array([[ 0.5,  0.5]])"
      ]
     },
     "execution_count": 33,
     "metadata": {},
     "output_type": "execute_result"
    }
   ],
   "source": [
    "EStep(2, X, mean, cov, phy)"
   ]
  },
  {
   "cell_type": "code",
   "execution_count": null,
   "metadata": {
    "collapsed": true
   },
   "outputs": [],
   "source": [
    "def MStep():"
   ]
  },
  {
   "cell_type": "code",
   "execution_count": null,
   "metadata": {
    "collapsed": false
   },
   "outputs": [],
   "source": [
    "case = 3\n",
    "w = np.ndarray([1,case])\n",
    "print(w[0][1])"
   ]
  },
  {
   "cell_type": "code",
   "execution_count": null,
   "metadata": {
    "collapsed": false
   },
   "outputs": [],
   "source": [
    "np.dot(cov, np.array((4,2), dtype = int))"
   ]
  },
  {
   "cell_type": "code",
   "execution_count": null,
   "metadata": {
    "collapsed": true
   },
   "outputs": [],
   "source": []
  }
 ],
 "metadata": {
  "kernelspec": {
   "display_name": "Python 3",
   "language": "python",
   "name": "python3"
  },
  "language_info": {
   "codemirror_mode": {
    "name": "ipython",
    "version": 3
   },
   "file_extension": ".py",
   "mimetype": "text/x-python",
   "name": "python",
   "nbconvert_exporter": "python",
   "pygments_lexer": "ipython3",
   "version": "3.5.1"
  }
 },
 "nbformat": 4,
 "nbformat_minor": 2
}
